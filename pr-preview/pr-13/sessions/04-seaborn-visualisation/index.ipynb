{
  "cells": [
    {
      "cell_type": "markdown",
      "metadata": {},
      "source": [
        "# Visualisation with Seaborn\n",
        "\n",
        "Intro text intro text intro text\n",
        "\n",
        "We are using [Australian weather\n",
        "data](https://www.kaggle.com/datasets/jsphyg/weather-dataset-rattle-package),\n",
        "taken from [Kaggle](https://kaggle.com). This dataset is used to build\n",
        "machine learning models that predict whether it will rain tomorrow,\n",
        "using data about the weather every day from 2007 to 2017. To download\n",
        "the data, click <a href=\"data/weatherAUS.csv\" download>here</a>."
      ],
      "id": "2f24d430-c65f-44b5-bbcb-0b7435f44bc0"
    },
    {
      "cell_type": "code",
      "execution_count": 1,
      "metadata": {},
      "outputs": [],
      "source": [
        "# install necessary packages\n",
        "import matplotlib.pyplot as plt\n",
        "from matplotlib import rcParams\n",
        "import numpy as np\n",
        "import pandas as pd\n",
        "import seaborn as sns\n",
        "\n",
        "# suppress some annoying warnings\n",
        "import warnings\n",
        "warnings.simplefilter(action='ignore', category=FutureWarning) \n",
        "\n",
        "sns.set_theme(style='darkgrid') # If we don't call this, we just get default matplotlib styling\n",
        "sns.set_context(\"notebook\") # Set an overall scale. Notebook is the default. In increasing size: paper, notebook, talk, poster.\n",
        "rcParams['font.sans-serif'] = ['Calibri','Segoe UI','Arial'] # use a nicer font in matplotlib (if available)"
      ],
      "id": "setup"
    },
    {
      "cell_type": "code",
      "execution_count": 2,
      "metadata": {},
      "outputs": [],
      "source": [
        "# import the dataset\n",
        "df = pd.read_csv('data/weatherAUS.csv')"
      ],
      "id": "import-data"
    },
    {
      "cell_type": "markdown",
      "metadata": {},
      "source": [
        "## Data manipulation\n",
        "\n",
        "Before we start actually generating some visuals, we need to make sure\n",
        "our Date column contains proper datetimes. We’re also going to drop the\n",
        "years with partial data so that our dataset only has full years. Finally\n",
        "we’re going to change the RainTomorrow field to contain a 0 or a 1\n",
        "rather than yes/no."
      ],
      "id": "3a3cb8cc-0a5a-444a-a82e-131928654d0c"
    },
    {
      "cell_type": "code",
      "execution_count": 3,
      "metadata": {},
      "outputs": [],
      "source": [
        "# convert date column to datetime\n",
        "df['Date'] = pd.to_datetime(df['Date'])\n",
        "\n",
        "# drop the partial years (2007,2017)\n",
        "df['year'] = df['Date'].dt.year\n",
        "df = df[~df['year'].isin([2007,2017])]\n",
        "\n",
        "# convert 'RainTomorrow' to a numeric variable, where 'Yes' = 1 and 'No' = 0.\n",
        "df['RainToday']=df['RainToday'].replace({'Yes': 1, 'No': 0, 'NA':0}).fillna(0).astype(int)\n",
        "df['RainTomorrow']=df['RainTomorrow'].map({'Yes': 1, 'No': 0,'NA': 0}).fillna(0).astype(int); \n",
        "\n",
        "# little tip: the semicolon suppresses textual output when we don't want it"
      ],
      "id": "988413ab"
    },
    {
      "cell_type": "markdown",
      "metadata": {},
      "source": [
        "Next, we’re going to create some helper dataframes by filtering,\n",
        "grouping and pivoting the data. These will be used for different types\n",
        "of visuals later."
      ],
      "id": "ed373f59-0167-4f15-b026-afa291c5a281"
    },
    {
      "cell_type": "code",
      "execution_count": 4,
      "metadata": {},
      "outputs": [],
      "source": [
        "# we need a month order for our \"mmm\" months - there is probably an official way of doing this...\n",
        "month_order = ['Jan', 'Feb', 'Mar', 'Apr', 'May', 'Jun', 'Jul', 'Aug', 'Sep', 'Oct', 'Nov', 'Dec']\n",
        "\n",
        "# build a month column\n",
        "df['month'] = df['Date'].dt.strftime('%b') # Add a column that just contains the month in mmm format\n",
        "df['month'] = pd.Categorical(df['month'], categories=month_order, ordered=True) # Make it categorical using our custom order so that it appears in the right order\n",
        "\n",
        "# we're going to filter to top 5 cities from now on\n",
        "df_top5Cities = df[df['Location'].isin(['Perth','Adelaide','Sydney','Melbourne','Brisbane'])]\n",
        "\n",
        "# a grouped dataframe with the number of rainy days per year and month, and location\n",
        "df_top5Cities_rainyDays = df_top5Cities.groupby(['Location','year', 'month'])['RainToday'].sum().reset_index()\n",
        "\n",
        "# a couple of fully-pivoted dataframes\n",
        "df_top5Cities_Rainfall_grouped = df_top5Cities.groupby(['Location', 'month'])['Rainfall'].mean().reset_index()\n",
        "df_top5Cities_Rainfall_pivoted = df_top5Cities_Rainfall_grouped.pivot(index=\"Location\",columns=\"month\", values=\"Rainfall\")\n",
        "df_top5Cities_rainyDays_pivoted = df_top5Cities.groupby(['Location', 'month'])['RainToday'].sum().reset_index().pivot(index=\"Location\",columns=\"month\", values=\"RainToday\")\n",
        "df_top5Cities_monthly_rainyDays_pivoted = df_top5Cities.groupby(['Location', 'month','year'])['RainToday'].sum().reset_index().groupby(['Location','month'])['RainToday'].mean().reset_index().pivot(index=\"Location\",columns=\"month\", values=\"RainToday\")\n",
        "\n",
        "\n",
        "# we need a sort order for our city names. This just returns an array with our city names in alphabetical order.\n",
        "colOrder_top5Cities=sorted(df_top5Cities['Location'].unique())"
      ],
      "id": "ff0fc7ef"
    },
    {
      "cell_type": "markdown",
      "metadata": {},
      "source": [
        "To enhance a chart we’re going to build later, we’re going to\n",
        "dynamically calculate some text describing our data range."
      ],
      "id": "0f5047c8-8498-4fb7-991f-87cd788f4a2e"
    },
    {
      "cell_type": "code",
      "execution_count": 5,
      "metadata": {},
      "outputs": [
        {
          "output_type": "stream",
          "name": "stdout",
          "text": [
            "2008 - 2016"
          ]
        }
      ],
      "source": [
        "# Calculate the date range dynamically; we're going to use this later...\n",
        "date_min = df['Date'].min().strftime('%Y')\n",
        "date_max = df['Date'].max().strftime('%Y')\n",
        "date_range = f\"{date_min} - {date_max}\"\n",
        "\n",
        "print(date_range)"
      ],
      "id": "8f6c1893"
    },
    {
      "cell_type": "markdown",
      "metadata": {},
      "source": [
        ":::"
      ],
      "id": "8e1c8fe0-a5d0-4914-af3f-db964dc28999"
    }
  ],
  "nbformat": 4,
  "nbformat_minor": 5,
  "metadata": {
    "kernelspec": {
      "name": "python3",
      "display_name": "Python 3 (ipykernel)",
      "language": "python",
      "path": "C:.willemsen"
    }
  }
}