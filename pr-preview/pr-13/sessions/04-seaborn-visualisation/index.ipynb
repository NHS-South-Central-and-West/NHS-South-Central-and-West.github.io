{
  "cells": [
    {
      "cell_type": "markdown",
      "metadata": {},
      "source": [
        "# Visualisation with Seaborn\n",
        "\n",
        "Intro text intro text intro text\n",
        "\n",
        "We are using [Australian weather\n",
        "data](https://www.kaggle.com/datasets/jsphyg/weather-dataset-rattle-package),\n",
        "taken from [Kaggle](https://kaggle.com). This dataset is used to build\n",
        "machine learning models that predict whether it will rain tomorrow,\n",
        "using data about the weather every day from 2007 to 2017. To download\n",
        "the data, click <a href=\"data/weatherAUS.csv\" download>here</a>."
      ],
      "id": "d92b46d1-5161-4da9-94f3-745fb751f184"
    },
    {
      "cell_type": "code",
      "execution_count": 1,
      "metadata": {},
      "outputs": [],
      "source": [
        "# install necessary packages\n",
        "import matplotlib.pyplot as plt\n",
        "from matplotlib import rcParams\n",
        "import numpy as np\n",
        "import pandas as pd\n",
        "import seaborn as sns\n",
        "\n",
        "# suppress some annoying warnings\n",
        "import warnings\n",
        "warnings.simplefilter(action='ignore', category=FutureWarning) \n",
        "\n",
        "sns.set_theme(style='darkgrid') # If we don't call this, we just get default matplotlib styling\n",
        "sns.set_context(\"notebook\") # Set an overall scale. Notebook is the default. In increasing size: paper, notebook, talk, poster.\n",
        "rcParams['font.sans-serif'] = ['Calibri','Segoe UI','Arial'] # use a nicer font in matplotlib (if available)"
      ],
      "id": "setup"
    },
    {
      "cell_type": "code",
      "execution_count": 2,
      "metadata": {},
      "outputs": [],
      "source": [
        "# import the dataset\n",
        "df = pd.read_csv('data/weatherAUS.csv')"
      ],
      "id": "import-data"
    },
    {
      "cell_type": "markdown",
      "metadata": {},
      "source": [
        "## Setting the Scene\n",
        "\n",
        "Before we start to explore any dataset, we need to establish what we are\n",
        "looking to do with the data. This should inform our decisions wwith any\n",
        "exploration, and any analysis that follows.\n",
        "\n",
        "**Questions:**\n",
        "\n",
        "-   What are we trying to achieve?\n",
        "-   How do our goals impact our analysis?\n",
        "-   What should we take into consideration before we write any code?\n",
        "-   What sort of questions might we be interested in with this dataset?\n",
        "\n",
        "### What Our Data Can Tell Us (And What it Can’t)\n",
        "\n",
        ":::"
      ],
      "id": "f28689c0-6072-4669-b840-d341a528c2fc"
    }
  ],
  "nbformat": 4,
  "nbformat_minor": 5,
  "metadata": {
    "kernelspec": {
      "name": "python3",
      "display_name": "Python 3 (ipykernel)",
      "language": "python",
      "path": "C:.willemsen"
    },
    "language_info": {
      "name": "python",
      "codemirror_mode": {
        "name": "ipython",
        "version": "3"
      },
      "file_extension": ".py",
      "mimetype": "text/x-python",
      "nbconvert_exporter": "python",
      "pygments_lexer": "ipython3",
      "version": "3.13.3"
    }
  }
}