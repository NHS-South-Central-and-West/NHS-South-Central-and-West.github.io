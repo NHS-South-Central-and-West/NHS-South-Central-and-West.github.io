{
  "cells": [
    {
      "cell_type": "markdown",
      "metadata": {},
      "source": [
        "# Exploring Data Using Pandas\n",
        "\n",
        "This is the first of four sessions looking at how to explore data in\n",
        "Python. This session will focus on introducing the Python library,\n",
        "pandas. We will use pandas\n",
        "\n",
        "We are using Australian weather data, taken from Kaggle. To download the\n",
        "data, click <a href=\"data/weatherAUS.csv\" download>here</a>."
      ],
      "id": "ecbcd924-05a3-41b7-b159-9987fac8d99e"
    },
    {
      "cell_type": "code",
      "execution_count": 1,
      "metadata": {},
      "outputs": [],
      "source": [
        "# install necessary packages\n",
        "!uv add skimpy\n",
        "\n",
        "# import packages\n",
        "import matplotlib.pyplot as plt\n",
        "import numpy as np\n",
        "import pandas as pd\n",
        "import seaborn as sns\n",
        "\n",
        "from skimpy import skim"
      ],
      "id": "setup"
    },
    {
      "cell_type": "code",
      "execution_count": 2,
      "metadata": {},
      "outputs": [],
      "source": [
        "# import the dataset\n",
        "df = pd.read_csv('data/weatherAUS.csv')"
      ],
      "id": "import-data"
    },
    {
      "cell_type": "markdown",
      "metadata": {},
      "source": [
        "## Setting the Scene\n",
        "\n",
        "Before we start to explore any dataset, we need to establish what we are\n",
        "looking to do with the data. This should inform our decisions wwith any\n",
        "exploration, and any analysis that follows.\n",
        "\n",
        "First, we need to ask: - What are we trying to achieve? - How do our\n",
        "goals impact our analysis? - What should we take into consideration\n",
        "before we write any code? - What sort of questions might we be\n",
        "interested in with this dataset?\n",
        "\n",
        "### What Our Data Can Tell Us (And What it Can’t)\n",
        "\n",
        "We also need to consider what the data is and where it came from.\n",
        "\n",
        "-   How was the data collected?\n",
        "-   What is it missing?\n",
        "-   What do the variables in our dataset actually mean, and are they a\n",
        "    good approximation of the concepts we are interested in?\n",
        "\n",
        "![](https://i.kym-cdn.com/entries/icons/original/000/039/191/EqR7AbhVQAAuuvA.jpg)\n",
        "\n",
        "### Population vs Sample\n",
        "\n",
        "-   What is the difference between population data and sample data?\n",
        "-   Why do we care?\n",
        "-   How do methods/approaches differ when dealing with population data\n",
        "    versus sample data?\n",
        "\n",
        "### Description vs Explanation (Inference) vs Prediction\n",
        "\n",
        "-   What do these different types of analysis mean?\n",
        "-   Do they impact the way we structure our analysis?\n",
        "-   Do they impact the code we write?\n",
        "\n",
        "## Describing Data\n",
        "\n",
        "-   What do we want to know about a dataset when we first encounter it?\n",
        "-   How do we get a quick overview of the data that can help us in our\n",
        "    next steps?\n",
        "-   We need to get a “feel” for the data before we can really make any\n",
        "    decisions about how to analyse it. How do we get there with a new\n",
        "    dataset?"
      ],
      "id": "1f17e320-5bb5-42d0-847d-34299c37aaf0"
    },
    {
      "cell_type": "code",
      "execution_count": 3,
      "metadata": {},
      "outputs": [
        {
          "output_type": "display_data",
          "metadata": {},
          "data": {
            "text/html": [
              "\n",
              "<p>5 rows × 23 columns</p>\n",
              "</div>"
            ]
          }
        }
      ],
      "source": [
        "# view the top five rows\n",
        "df.head()"
      ],
      "id": "cell-inspect-data-head"
    },
    {
      "cell_type": "code",
      "execution_count": 4,
      "metadata": {},
      "outputs": [
        {
          "output_type": "display_data",
          "metadata": {},
          "data": {
            "text/html": [
              "\n",
              "<p>10 rows × 23 columns</p>\n",
              "</div>"
            ]
          }
        }
      ],
      "source": [
        "# view the bottom ten rows\n",
        "df.tail(10)"
      ],
      "id": "cell-inspect-data-tail"
    },
    {
      "cell_type": "code",
      "execution_count": 5,
      "metadata": {},
      "outputs": [
        {
          "output_type": "display_data",
          "metadata": {},
          "data": {
            "text/plain": [
              "(145460, 23)"
            ]
          }
        }
      ],
      "source": [
        "# get the object shape (number of rows, number of columns)\n",
        "df.shape"
      ],
      "id": "cell-data-shape"
    },
    {
      "cell_type": "code",
      "execution_count": 6,
      "metadata": {},
      "outputs": [
        {
          "output_type": "display_data",
          "metadata": {},
          "data": {
            "text/plain": [
              "145460"
            ]
          }
        }
      ],
      "source": [
        "# get the object length\n",
        "len(df)"
      ],
      "id": "cell-data-length"
    },
    {
      "cell_type": "code",
      "execution_count": 7,
      "metadata": {},
      "outputs": [
        {
          "output_type": "display_data",
          "metadata": {},
          "data": {
            "text/plain": [
              "Index(['Date', 'Location', 'MinTemp', 'MaxTemp', 'Rainfall', 'Evaporation',\n",
              "       'Sunshine', 'WindGustDir', 'WindGustSpeed', 'WindDir9am', 'WindDir3pm',\n",
              "       'WindSpeed9am', 'WindSpeed3pm', 'Humidity9am', 'Humidity3pm',\n",
              "       'Pressure9am', 'Pressure3pm', 'Cloud9am', 'Cloud3pm', 'Temp9am',\n",
              "       'Temp3pm', 'RainToday', 'RainTomorrow'],\n",
              "      dtype='object')"
            ]
          }
        }
      ],
      "source": [
        "# get all column names\n",
        "df.columns"
      ],
      "id": "cell-col-names"
    },
    {
      "cell_type": "code",
      "execution_count": 8,
      "metadata": {},
      "outputs": [
        {
          "output_type": "stream",
          "name": "stdout",
          "text": [
            "<class 'pandas.core.frame.DataFrame'>\n",
            "RangeIndex: 145460 entries, 0 to 145459\n",
            "Data columns (total 23 columns):\n",
            " #   Column         Non-Null Count   Dtype  \n",
            "---  ------         --------------   -----  \n",
            " 0   Date           145460 non-null  object \n",
            " 1   Location       145460 non-null  object \n",
            " 2   MinTemp        143975 non-null  float64\n",
            " 3   MaxTemp        144199 non-null  float64\n",
            " 4   Rainfall       142199 non-null  float64\n",
            " 5   Evaporation    82670 non-null   float64\n",
            " 6   Sunshine       75625 non-null   float64\n",
            " 7   WindGustDir    135134 non-null  object \n",
            " 8   WindGustSpeed  135197 non-null  float64\n",
            " 9   WindDir9am     134894 non-null  object \n",
            " 10  WindDir3pm     141232 non-null  object \n",
            " 11  WindSpeed9am   143693 non-null  float64\n",
            " 12  WindSpeed3pm   142398 non-null  float64\n",
            " 13  Humidity9am    142806 non-null  float64\n",
            " 14  Humidity3pm    140953 non-null  float64\n",
            " 15  Pressure9am    130395 non-null  float64\n",
            " 16  Pressure3pm    130432 non-null  float64\n",
            " 17  Cloud9am       89572 non-null   float64\n",
            " 18  Cloud3pm       86102 non-null   float64\n",
            " 19  Temp9am        143693 non-null  float64\n",
            " 20  Temp3pm        141851 non-null  float64\n",
            " 21  RainToday      142199 non-null  object \n",
            " 22  RainTomorrow   142193 non-null  object \n",
            "dtypes: float64(16), object(7)\n",
            "memory usage: 25.5+ MB"
          ]
        }
      ],
      "source": [
        "# get dataframe info (column indices, non-null counts, data types)\n",
        "df.info()"
      ],
      "id": "data-info"
    },
    {
      "cell_type": "code",
      "execution_count": 9,
      "metadata": {},
      "outputs": [
        {
          "output_type": "display_data",
          "metadata": {},
          "data": {
            "text/plain": [
              "Date             0.000000\n",
              "Location         0.000000\n",
              "MinTemp          0.010209\n",
              "MaxTemp          0.008669\n",
              "Rainfall         0.022419\n",
              "Evaporation      0.431665\n",
              "Sunshine         0.480098\n",
              "WindGustDir      0.070989\n",
              "WindGustSpeed    0.070555\n",
              "WindDir9am       0.072639\n",
              "WindDir3pm       0.029066\n",
              "WindSpeed9am     0.012148\n",
              "WindSpeed3pm     0.021050\n",
              "Humidity9am      0.018246\n",
              "Humidity3pm      0.030984\n",
              "Pressure9am      0.103568\n",
              "Pressure3pm      0.103314\n",
              "Cloud9am         0.384216\n",
              "Cloud3pm         0.408071\n",
              "Temp9am          0.012148\n",
              "Temp3pm          0.024811\n",
              "RainToday        0.022419\n",
              "RainTomorrow     0.022460\n",
              "dtype: float64"
            ]
          }
        }
      ],
      "source": [
        "# calculate the percentage of null values in each column\n",
        "df.isnull().sum()/len(df)"
      ],
      "id": "cell-null-values-percent"
    },
    {
      "cell_type": "markdown",
      "metadata": {},
      "source": [
        "## Wrangling Data\n",
        "\n",
        "-   Datasets are rarely perfectly clean and\n",
        "    [tidy](https://vita.had.co.nz/papers/tidy-data.pdf). It is often\n",
        "    necessary to make changes to our data, such as selecting a subset of\n",
        "    columns, filtering for a range of values, and transforming how\n",
        "    certain variables are represented.\n",
        "-   What “functions” might we need to carry out on our data when we are\n",
        "    exploring it?\n",
        "-   What sort of transformations might be necessary here?"
      ],
      "id": "a0771470-2c35-46b4-977e-83c1a7cf95ef"
    },
    {
      "cell_type": "code",
      "execution_count": 10,
      "metadata": {},
      "outputs": [
        {
          "output_type": "display_data",
          "metadata": {},
          "data": {
            "text/plain": [
              "0         2008-12-01\n",
              "1         2008-12-02\n",
              "2         2008-12-03\n",
              "3         2008-12-04\n",
              "4         2008-12-05\n",
              "             ...    \n",
              "145455    2017-06-21\n",
              "145456    2017-06-22\n",
              "145457    2017-06-23\n",
              "145458    2017-06-24\n",
              "145459    2017-06-25\n",
              "Name: Date, Length: 145460, dtype: object"
            ]
          }
        }
      ],
      "source": [
        "# selecting a single column by name\n",
        "df['Date']"
      ],
      "id": "cell-select-col"
    },
    {
      "cell_type": "code",
      "execution_count": 11,
      "metadata": {},
      "outputs": [
        {
          "output_type": "display_data",
          "metadata": {},
          "data": {
            "text/plain": [
              "0         2008-12-01\n",
              "1         2008-12-02\n",
              "2         2008-12-03\n",
              "3         2008-12-04\n",
              "4         2008-12-05\n",
              "             ...    \n",
              "145455    2017-06-21\n",
              "145456    2017-06-22\n",
              "145457    2017-06-23\n",
              "145458    2017-06-24\n",
              "145459    2017-06-25\n",
              "Name: Date, Length: 145460, dtype: object"
            ]
          }
        }
      ],
      "source": [
        "# there's always multiple ways to achieve something in python\n",
        "df.loc[:, 'Date'] # this is good\n",
        "# df.Date"
      ],
      "id": "cell-alt-select"
    },
    {
      "cell_type": "code",
      "execution_count": 12,
      "metadata": {},
      "outputs": [
        {
          "output_type": "display_data",
          "metadata": {},
          "data": {
            "text/html": [
              "\n",
              "<p>145460 rows × 3 columns</p>\n",
              "</div>"
            ]
          }
        }
      ],
      "source": [
        "# selecting multiple columns (and all rows) by name\n",
        "df[['Date', 'Location', 'Rainfall']]\n",
        "# df.loc[:, ['Date', 'Location', 'Rainfall']]"
      ],
      "id": "cell-select-multiple-cols"
    },
    {
      "cell_type": "code",
      "execution_count": 13,
      "metadata": {},
      "outputs": [
        {
          "output_type": "display_data",
          "metadata": {},
          "data": {
            "text/html": [
              "\n",
              "<p>11 rows × 23 columns</p>\n",
              "</div>"
            ]
          }
        }
      ],
      "source": [
        "# slicing by rows\n",
        "df[200:211]"
      ],
      "id": "cell-subset-rows"
    },
    {
      "cell_type": "code",
      "execution_count": 14,
      "metadata": {},
      "outputs": [
        {
          "output_type": "display_data",
          "metadata": {},
          "data": {
            "text/html": [
              "\n",
              "<p>2293 rows × 23 columns</p>\n",
              "</div>"
            ]
          }
        }
      ],
      "source": [
        "# filtering by values\n",
        "# df[df['Location'] == 'Perth']\n",
        "# df[df['Rainfall'] > 0]\n",
        "df[(df['Rainfall'] == 0) & (df['Location'] == 'Perth')]"
      ],
      "id": "cell-filter-vals"
    },
    {
      "cell_type": "code",
      "execution_count": 15,
      "metadata": {},
      "outputs": [],
      "source": [
        "# convert date column to datetime\n",
        "df['Date'] = pd.to_datetime(df['Date'])"
      ],
      "id": "convert-to-datetime"
    },
    {
      "cell_type": "code",
      "execution_count": 16,
      "metadata": {},
      "outputs": [
        {
          "output_type": "display_data",
          "metadata": {},
          "data": {
            "text/html": [
              "\n",
              "<p>145460 rows × 23 columns</p>\n",
              "</div>"
            ]
          }
        }
      ],
      "source": [
        "# convert object columns to categorical\n",
        "df.apply(lambda x: x.astype('category') if x.dtype == 'object' else x)"
      ],
      "id": "cell-convert-to-cat"
    },
    {
      "cell_type": "code",
      "execution_count": 17,
      "metadata": {},
      "outputs": [
        {
          "output_type": "display_data",
          "metadata": {},
          "data": {
            "text/html": [
              "\n",
              "<p>75625 rows × 23 columns</p>\n",
              "</div>"
            ]
          }
        }
      ],
      "source": [
        "# filter observations where sunshine is NA\n",
        "# (this is illustrative but should not be done without careful consideration generally)\n",
        "df[df['Sunshine'].notnull()]"
      ],
      "id": "cell-filter-not-null"
    },
    {
      "cell_type": "markdown",
      "metadata": {},
      "source": [
        "## Summarising Data"
      ],
      "id": "180e51a1-bc99-4107-8a18-0dea4a00835b"
    },
    {
      "cell_type": "code",
      "execution_count": 18,
      "metadata": {},
      "outputs": [
        {
          "output_type": "display_data",
          "metadata": {},
          "data": {
            "text/html": [
              "\n",
              "</div>"
            ]
          }
        }
      ],
      "source": [
        "# quick summary of numeric variables\n",
        "df.describe()"
      ],
      "id": "cell-describe-data"
    },
    {
      "cell_type": "code",
      "execution_count": 19,
      "metadata": {},
      "outputs": [
        {
          "output_type": "display_data",
          "metadata": {},
          "data": {
            "text/html": [
              "<pre style=\"white-space:pre;overflow-x:auto;line-height:normal;font-family:Menlo,'DejaVu Sans Mono',consolas,'Courier New',monospace\">╭──────────────────────────────────────────────── skimpy summary ─────────────────────────────────────────────────╮\n",
              "│ <span style=\"font-style: italic\">         Data Summary         </span> <span style=\"font-style: italic\">      Data Types       </span>                                                          │\n",
              "│ ┏━━━━━━━━━━━━━━━━━━━┳━━━━━━━━┓ ┏━━━━━━━━━━━━━┳━━━━━━━┓                                                          │\n",
              "│ ┃<span style=\"color: #008080; text-decoration-color: #008080; font-weight: bold\"> Dataframe         </span>┃<span style=\"color: #008080; text-decoration-color: #008080; font-weight: bold\"> Values </span>┃ ┃<span style=\"color: #008080; text-decoration-color: #008080; font-weight: bold\"> Column Type </span>┃<span style=\"color: #008080; text-decoration-color: #008080; font-weight: bold\"> Count </span>┃                                                          │\n",
              "│ ┡━━━━━━━━━━━━━━━━━━━╇━━━━━━━━┩ ┡━━━━━━━━━━━━━╇━━━━━━━┩                                                          │\n",
              "│ │ Number of rows    │ 145460 │ │ float64     │ 16    │                                                          │\n",
              "│ │ Number of columns │ 23     │ │ string      │ 6     │                                                          │\n",
              "│ └───────────────────┴────────┘ │ datetime64  │ 1     │                                                          │\n",
              "│                                └─────────────┴───────┘                                                          │\n",
              "│ <span style=\"font-style: italic\">                                                    number                                                    </span>  │\n",
              "│ ┏━━━━━━━━━━━━━━━━┳━━━━━━━━┳━━━━━━━━━━━━━━━━━━━━━┳━━━━━━━┳━━━━━━━┳━━━━━━━┳━━━━━━┳━━━━━━┳━━━━━━┳━━━━━━┳━━━━━━━━┓  │\n",
              "│ ┃<span style=\"font-weight: bold\"> column         </span>┃<span style=\"font-weight: bold\"> NA     </span>┃<span style=\"font-weight: bold\"> NA %                </span>┃<span style=\"font-weight: bold\"> mean  </span>┃<span style=\"font-weight: bold\"> sd    </span>┃<span style=\"font-weight: bold\"> p0    </span>┃<span style=\"font-weight: bold\"> p25  </span>┃<span style=\"font-weight: bold\"> p50  </span>┃<span style=\"font-weight: bold\"> p75  </span>┃<span style=\"font-weight: bold\"> p100 </span>┃<span style=\"font-weight: bold\"> hist   </span>┃  │\n",
              "│ ┡━━━━━━━━━━━━━━━━╇━━━━━━━━╇━━━━━━━━━━━━━━━━━━━━━╇━━━━━━━╇━━━━━━━╇━━━━━━━╇━━━━━━╇━━━━━━╇━━━━━━╇━━━━━━╇━━━━━━━━┩  │\n",
              "│ │ <span style=\"color: #af87ff; text-decoration-color: #af87ff\">MinTemp       </span> │ <span style=\"color: #008080; text-decoration-color: #008080\">  1485</span> │ <span style=\"color: #008080; text-decoration-color: #008080\"> 1.0208992162793895</span> │ <span style=\"color: #008080; text-decoration-color: #008080\">12.19</span> │ <span style=\"color: #008080; text-decoration-color: #008080\">6.398</span> │ <span style=\"color: #008080; text-decoration-color: #008080\"> -8.5</span> │ <span style=\"color: #008080; text-decoration-color: #008080\"> 7.6</span> │ <span style=\"color: #008080; text-decoration-color: #008080\">  12</span> │ <span style=\"color: #008080; text-decoration-color: #008080\">16.9</span> │ <span style=\"color: #008080; text-decoration-color: #008080\">33.9</span> │ <span style=\"color: #008000; text-decoration-color: #008000\"> ▃▇▇▃ </span> │  │\n",
              "│ │ <span style=\"color: #af87ff; text-decoration-color: #af87ff\">MaxTemp       </span> │ <span style=\"color: #008080; text-decoration-color: #008080\">  1261</span> │ <span style=\"color: #008080; text-decoration-color: #008080\"> 0.8669049910628351</span> │ <span style=\"color: #008080; text-decoration-color: #008080\">23.22</span> │ <span style=\"color: #008080; text-decoration-color: #008080\">7.119</span> │ <span style=\"color: #008080; text-decoration-color: #008080\"> -4.8</span> │ <span style=\"color: #008080; text-decoration-color: #008080\">17.9</span> │ <span style=\"color: #008080; text-decoration-color: #008080\">22.6</span> │ <span style=\"color: #008080; text-decoration-color: #008080\">28.2</span> │ <span style=\"color: #008080; text-decoration-color: #008080\">48.1</span> │ <span style=\"color: #008000; text-decoration-color: #008000\"> ▁▇▇▃ </span> │  │\n",
              "│ │ <span style=\"color: #af87ff; text-decoration-color: #af87ff\">Rainfall      </span> │ <span style=\"color: #008080; text-decoration-color: #008080\">  3261</span> │ <span style=\"color: #008080; text-decoration-color: #008080\">  2.241853430496356</span> │ <span style=\"color: #008080; text-decoration-color: #008080\">2.361</span> │ <span style=\"color: #008080; text-decoration-color: #008080\">8.478</span> │ <span style=\"color: #008080; text-decoration-color: #008080\">    0</span> │ <span style=\"color: #008080; text-decoration-color: #008080\">   0</span> │ <span style=\"color: #008080; text-decoration-color: #008080\">   0</span> │ <span style=\"color: #008080; text-decoration-color: #008080\"> 0.8</span> │ <span style=\"color: #008080; text-decoration-color: #008080\"> 371</span> │ <span style=\"color: #008000; text-decoration-color: #008000\">  ▇   </span> │  │\n",
              "│ │ <span style=\"color: #af87ff; text-decoration-color: #af87ff\">Evaporation   </span> │ <span style=\"color: #008080; text-decoration-color: #008080\"> 62790</span> │ <span style=\"color: #008080; text-decoration-color: #008080\">   43.1665062560154</span> │ <span style=\"color: #008080; text-decoration-color: #008080\">5.468</span> │ <span style=\"color: #008080; text-decoration-color: #008080\">4.194</span> │ <span style=\"color: #008080; text-decoration-color: #008080\">    0</span> │ <span style=\"color: #008080; text-decoration-color: #008080\"> 2.6</span> │ <span style=\"color: #008080; text-decoration-color: #008080\"> 4.8</span> │ <span style=\"color: #008080; text-decoration-color: #008080\"> 7.4</span> │ <span style=\"color: #008080; text-decoration-color: #008080\"> 145</span> │ <span style=\"color: #008000; text-decoration-color: #008000\">  ▇   </span> │  │\n",
              "│ │ <span style=\"color: #af87ff; text-decoration-color: #af87ff\">Sunshine      </span> │ <span style=\"color: #008080; text-decoration-color: #008080\"> 69835</span> │ <span style=\"color: #008080; text-decoration-color: #008080\">  48.00976213391998</span> │ <span style=\"color: #008080; text-decoration-color: #008080\">7.611</span> │ <span style=\"color: #008080; text-decoration-color: #008080\">3.785</span> │ <span style=\"color: #008080; text-decoration-color: #008080\">    0</span> │ <span style=\"color: #008080; text-decoration-color: #008080\"> 4.8</span> │ <span style=\"color: #008080; text-decoration-color: #008080\"> 8.4</span> │ <span style=\"color: #008080; text-decoration-color: #008080\">10.6</span> │ <span style=\"color: #008080; text-decoration-color: #008080\">14.5</span> │ <span style=\"color: #008000; text-decoration-color: #008000\">▃▃▅▆▇▃</span> │  │\n",
              "│ │ <span style=\"color: #af87ff; text-decoration-color: #af87ff\">WindGustSpeed </span> │ <span style=\"color: #008080; text-decoration-color: #008080\"> 10263</span> │ <span style=\"color: #008080; text-decoration-color: #008080\">  7.055547916953114</span> │ <span style=\"color: #008080; text-decoration-color: #008080\">40.04</span> │ <span style=\"color: #008080; text-decoration-color: #008080\">13.61</span> │ <span style=\"color: #008080; text-decoration-color: #008080\">    6</span> │ <span style=\"color: #008080; text-decoration-color: #008080\">  31</span> │ <span style=\"color: #008080; text-decoration-color: #008080\">  39</span> │ <span style=\"color: #008080; text-decoration-color: #008080\">  48</span> │ <span style=\"color: #008080; text-decoration-color: #008080\"> 135</span> │ <span style=\"color: #008000; text-decoration-color: #008000\"> ▂▇▂  </span> │  │\n",
              "│ │ <span style=\"color: #af87ff; text-decoration-color: #af87ff\">WindSpeed9am  </span> │ <span style=\"color: #008080; text-decoration-color: #008080\">  1767</span> │ <span style=\"color: #008080; text-decoration-color: #008080\">  1.214766946239516</span> │ <span style=\"color: #008080; text-decoration-color: #008080\">14.04</span> │ <span style=\"color: #008080; text-decoration-color: #008080\">8.915</span> │ <span style=\"color: #008080; text-decoration-color: #008080\">    0</span> │ <span style=\"color: #008080; text-decoration-color: #008080\">   7</span> │ <span style=\"color: #008080; text-decoration-color: #008080\">  13</span> │ <span style=\"color: #008080; text-decoration-color: #008080\">  19</span> │ <span style=\"color: #008080; text-decoration-color: #008080\"> 130</span> │ <span style=\"color: #008000; text-decoration-color: #008000\">  ▇▂  </span> │  │\n",
              "│ │ <span style=\"color: #af87ff; text-decoration-color: #af87ff\">WindSpeed3pm  </span> │ <span style=\"color: #008080; text-decoration-color: #008080\">  3062</span> │ <span style=\"color: #008080; text-decoration-color: #008080\">  2.105046060772721</span> │ <span style=\"color: #008080; text-decoration-color: #008080\">18.66</span> │ <span style=\"color: #008080; text-decoration-color: #008080\"> 8.81</span> │ <span style=\"color: #008080; text-decoration-color: #008080\">    0</span> │ <span style=\"color: #008080; text-decoration-color: #008080\">  13</span> │ <span style=\"color: #008080; text-decoration-color: #008080\">  19</span> │ <span style=\"color: #008080; text-decoration-color: #008080\">  24</span> │ <span style=\"color: #008080; text-decoration-color: #008080\">  87</span> │ <span style=\"color: #008000; text-decoration-color: #008000\"> ▅▇▂  </span> │  │\n",
              "│ │ <span style=\"color: #af87ff; text-decoration-color: #af87ff\">Humidity9am   </span> │ <span style=\"color: #008080; text-decoration-color: #008080\">  2654</span> │ <span style=\"color: #008080; text-decoration-color: #008080\"> 1.8245565791282827</span> │ <span style=\"color: #008080; text-decoration-color: #008080\">68.88</span> │ <span style=\"color: #008080; text-decoration-color: #008080\">19.03</span> │ <span style=\"color: #008080; text-decoration-color: #008080\">    0</span> │ <span style=\"color: #008080; text-decoration-color: #008080\">  57</span> │ <span style=\"color: #008080; text-decoration-color: #008080\">  70</span> │ <span style=\"color: #008080; text-decoration-color: #008080\">  83</span> │ <span style=\"color: #008080; text-decoration-color: #008080\"> 100</span> │ <span style=\"color: #008000; text-decoration-color: #008000\"> ▁▂▇▇▆</span> │  │\n",
              "│ │ <span style=\"color: #af87ff; text-decoration-color: #af87ff\">Humidity3pm   </span> │ <span style=\"color: #008080; text-decoration-color: #008080\">  4507</span> │ <span style=\"color: #008080; text-decoration-color: #008080\">   3.09844630826344</span> │ <span style=\"color: #008080; text-decoration-color: #008080\">51.54</span> │ <span style=\"color: #008080; text-decoration-color: #008080\"> 20.8</span> │ <span style=\"color: #008080; text-decoration-color: #008080\">    0</span> │ <span style=\"color: #008080; text-decoration-color: #008080\">  37</span> │ <span style=\"color: #008080; text-decoration-color: #008080\">  52</span> │ <span style=\"color: #008080; text-decoration-color: #008080\">  66</span> │ <span style=\"color: #008080; text-decoration-color: #008080\"> 100</span> │ <span style=\"color: #008000; text-decoration-color: #008000\">▁▅▆▇▅▂</span> │  │\n",
              "│ │ <span style=\"color: #af87ff; text-decoration-color: #af87ff\">Pressure9am   </span> │ <span style=\"color: #008080; text-decoration-color: #008080\"> 15065</span> │ <span style=\"color: #008080; text-decoration-color: #008080\">    10.356799120033</span> │ <span style=\"color: #008080; text-decoration-color: #008080\"> 1018</span> │ <span style=\"color: #008080; text-decoration-color: #008080\">7.107</span> │ <span style=\"color: #008080; text-decoration-color: #008080\">980.5</span> │ <span style=\"color: #008080; text-decoration-color: #008080\">1013</span> │ <span style=\"color: #008080; text-decoration-color: #008080\">1018</span> │ <span style=\"color: #008080; text-decoration-color: #008080\">1022</span> │ <span style=\"color: #008080; text-decoration-color: #008080\">1041</span> │ <span style=\"color: #008000; text-decoration-color: #008000\">  ▂▇▅ </span> │  │\n",
              "│ │ <span style=\"color: #af87ff; text-decoration-color: #af87ff\">Pressure3pm   </span> │ <span style=\"color: #008080; text-decoration-color: #008080\"> 15028</span> │ <span style=\"color: #008080; text-decoration-color: #008080\"> 10.331362573903478</span> │ <span style=\"color: #008080; text-decoration-color: #008080\"> 1015</span> │ <span style=\"color: #008080; text-decoration-color: #008080\">7.037</span> │ <span style=\"color: #008080; text-decoration-color: #008080\">977.1</span> │ <span style=\"color: #008080; text-decoration-color: #008080\">1010</span> │ <span style=\"color: #008080; text-decoration-color: #008080\">1015</span> │ <span style=\"color: #008080; text-decoration-color: #008080\">1020</span> │ <span style=\"color: #008080; text-decoration-color: #008080\">1040</span> │ <span style=\"color: #008000; text-decoration-color: #008000\">  ▂▇▅ </span> │  │\n",
              "│ │ <span style=\"color: #af87ff; text-decoration-color: #af87ff\">Cloud9am      </span> │ <span style=\"color: #008080; text-decoration-color: #008080\"> 55888</span> │ <span style=\"color: #008080; text-decoration-color: #008080\">  38.42155919153032</span> │ <span style=\"color: #008080; text-decoration-color: #008080\">4.447</span> │ <span style=\"color: #008080; text-decoration-color: #008080\">2.887</span> │ <span style=\"color: #008080; text-decoration-color: #008080\">    0</span> │ <span style=\"color: #008080; text-decoration-color: #008080\">   1</span> │ <span style=\"color: #008080; text-decoration-color: #008080\">   5</span> │ <span style=\"color: #008080; text-decoration-color: #008080\">   7</span> │ <span style=\"color: #008080; text-decoration-color: #008080\">   9</span> │ <span style=\"color: #008000; text-decoration-color: #008000\">▇▂▃▂▇▅</span> │  │\n",
              "│ │ <span style=\"color: #af87ff; text-decoration-color: #af87ff\">Cloud3pm      </span> │ <span style=\"color: #008080; text-decoration-color: #008080\"> 59358</span> │ <span style=\"color: #008080; text-decoration-color: #008080\">  40.80709473394748</span> │ <span style=\"color: #008080; text-decoration-color: #008080\"> 4.51</span> │ <span style=\"color: #008080; text-decoration-color: #008080\"> 2.72</span> │ <span style=\"color: #008080; text-decoration-color: #008080\">    0</span> │ <span style=\"color: #008080; text-decoration-color: #008080\">   2</span> │ <span style=\"color: #008080; text-decoration-color: #008080\">   5</span> │ <span style=\"color: #008080; text-decoration-color: #008080\">   7</span> │ <span style=\"color: #008080; text-decoration-color: #008080\">   9</span> │ <span style=\"color: #008000; text-decoration-color: #008000\">▆▂▃▂▇▃</span> │  │\n",
              "│ │ <span style=\"color: #af87ff; text-decoration-color: #af87ff\">Temp9am       </span> │ <span style=\"color: #008080; text-decoration-color: #008080\">  1767</span> │ <span style=\"color: #008080; text-decoration-color: #008080\">  1.214766946239516</span> │ <span style=\"color: #008080; text-decoration-color: #008080\">16.99</span> │ <span style=\"color: #008080; text-decoration-color: #008080\">6.489</span> │ <span style=\"color: #008080; text-decoration-color: #008080\"> -7.2</span> │ <span style=\"color: #008080; text-decoration-color: #008080\">12.3</span> │ <span style=\"color: #008080; text-decoration-color: #008080\">16.7</span> │ <span style=\"color: #008080; text-decoration-color: #008080\">21.6</span> │ <span style=\"color: #008080; text-decoration-color: #008080\">40.2</span> │ <span style=\"color: #008000; text-decoration-color: #008000\"> ▂▇▇▃ </span> │  │\n",
              "│ │ <span style=\"color: #af87ff; text-decoration-color: #af87ff\">Temp3pm       </span> │ <span style=\"color: #008080; text-decoration-color: #008080\">  3609</span> │ <span style=\"color: #008080; text-decoration-color: #008080\"> 2.4810944589577892</span> │ <span style=\"color: #008080; text-decoration-color: #008080\">21.68</span> │ <span style=\"color: #008080; text-decoration-color: #008080\">6.937</span> │ <span style=\"color: #008080; text-decoration-color: #008080\"> -5.4</span> │ <span style=\"color: #008080; text-decoration-color: #008080\">16.6</span> │ <span style=\"color: #008080; text-decoration-color: #008080\">21.1</span> │ <span style=\"color: #008080; text-decoration-color: #008080\">26.4</span> │ <span style=\"color: #008080; text-decoration-color: #008080\">46.7</span> │ <span style=\"color: #008000; text-decoration-color: #008000\"> ▁▇▇▃ </span> │  │\n",
              "│ └────────────────┴────────┴─────────────────────┴───────┴───────┴───────┴──────┴──────┴──────┴──────┴────────┘  │\n",
              "│ <span style=\"font-style: italic\">                                                   datetime                                                   </span>  │\n",
              "│ ┏━━━━━━━━━━━━━━━━┳━━━━━━━━┳━━━━━━━━━━━━┳━━━━━━━━━━━━━━━━━━━━━━━┳━━━━━━━━━━━━━━━━━━━━━━━┳━━━━━━━━━━━━━━━━━━━━━┓  │\n",
              "│ ┃<span style=\"font-weight: bold\"> column         </span>┃<span style=\"font-weight: bold\"> NA     </span>┃<span style=\"font-weight: bold\"> NA %       </span>┃<span style=\"font-weight: bold\"> first                 </span>┃<span style=\"font-weight: bold\"> last                  </span>┃<span style=\"font-weight: bold\"> frequency           </span>┃  │\n",
              "│ ┡━━━━━━━━━━━━━━━━╇━━━━━━━━╇━━━━━━━━━━━━╇━━━━━━━━━━━━━━━━━━━━━━━╇━━━━━━━━━━━━━━━━━━━━━━━╇━━━━━━━━━━━━━━━━━━━━━┩  │\n",
              "│ │ <span style=\"color: #af87ff; text-decoration-color: #af87ff\">Date          </span> │ <span style=\"color: #008080; text-decoration-color: #008080\">     0</span> │ <span style=\"color: #008080; text-decoration-color: #008080\">         0</span> │ <span style=\"color: #800000; text-decoration-color: #800000\">     2007-11-01      </span> │ <span style=\"color: #800000; text-decoration-color: #800000\">     2017-06-25      </span> │ <span style=\"color: #af87ff; text-decoration-color: #af87ff\">None               </span> │  │\n",
              "│ └────────────────┴────────┴────────────┴───────────────────────┴───────────────────────┴─────────────────────┘  │\n",
              "│ <span style=\"font-style: italic\">                                                    string                                                    </span>  │\n",
              "│ ┏━━━━━━━━━━━┳━━━━━━━┳━━━━━━━━━━┳━━━━━━━━━━┳━━━━━━━━━━━┳━━━━━━━━━━┳━━━━━━━━━┳━━━━━━━━━━┳━━━━━━━━━━━┳━━━━━━━━━━┓  │\n",
              "│ ┃<span style=\"font-weight: bold\">           </span>┃<span style=\"font-weight: bold\">       </span>┃<span style=\"font-weight: bold\">          </span>┃<span style=\"font-weight: bold\">          </span>┃<span style=\"font-weight: bold\">           </span>┃<span style=\"font-weight: bold\">          </span>┃<span style=\"font-weight: bold\">         </span>┃<span style=\"font-weight: bold\"> chars    </span>┃<span style=\"font-weight: bold\"> words per </span>┃<span style=\"font-weight: bold\"> total    </span>┃  │\n",
              "│ ┃<span style=\"font-weight: bold\"> column    </span>┃<span style=\"font-weight: bold\"> NA    </span>┃<span style=\"font-weight: bold\"> NA %     </span>┃<span style=\"font-weight: bold\"> shortest </span>┃<span style=\"font-weight: bold\"> longest   </span>┃<span style=\"font-weight: bold\"> min      </span>┃<span style=\"font-weight: bold\"> max     </span>┃<span style=\"font-weight: bold\"> per row  </span>┃<span style=\"font-weight: bold\"> row       </span>┃<span style=\"font-weight: bold\"> words    </span>┃  │\n",
              "│ ┡━━━━━━━━━━━╇━━━━━━━╇━━━━━━━━━━╇━━━━━━━━━━╇━━━━━━━━━━━╇━━━━━━━━━━╇━━━━━━━━━╇━━━━━━━━━━╇━━━━━━━━━━━╇━━━━━━━━━━┩  │\n",
              "│ │ <span style=\"color: #af87ff; text-decoration-color: #af87ff\">Location </span> │ <span style=\"color: #008080; text-decoration-color: #008080\">    0</span> │ <span style=\"color: #008080; text-decoration-color: #008080\">       0</span> │ <span style=\"color: #af87ff; text-decoration-color: #af87ff\">Sale    </span> │ <span style=\"color: #af87ff; text-decoration-color: #af87ff\">Melbourne</span> │ <span style=\"color: #af87ff; text-decoration-color: #af87ff\">Adelaide</span> │ <span style=\"color: #af87ff; text-decoration-color: #af87ff\">Woomera</span> │ <span style=\"color: #008080; text-decoration-color: #008080\">    8.71</span> │ <span style=\"color: #008080; text-decoration-color: #008080\">        1</span> │ <span style=\"color: #008080; text-decoration-color: #008080\">  145460</span> │  │\n",
              "│ │           │       │          │          │ <span style=\"color: #af87ff; text-decoration-color: #af87ff\">Airport  </span> │          │         │          │           │          │  │\n",
              "│ │ <span style=\"color: #af87ff; text-decoration-color: #af87ff\">WindGustD</span> │ <span style=\"color: #008080; text-decoration-color: #008080\">10326</span> │ <span style=\"color: #008080; text-decoration-color: #008080\">7.098858</span> │ <span style=\"color: #af87ff; text-decoration-color: #af87ff\">W       </span> │ <span style=\"color: #af87ff; text-decoration-color: #af87ff\">WNW      </span> │ <span style=\"color: #af87ff; text-decoration-color: #af87ff\">E       </span> │ <span style=\"color: #af87ff; text-decoration-color: #af87ff\">WSW    </span> │ <span style=\"color: #008080; text-decoration-color: #008080\">    2.19</span> │ <span style=\"color: #008080; text-decoration-color: #008080\">     0.93</span> │ <span style=\"color: #008080; text-decoration-color: #008080\">  135134</span> │  │\n",
              "│ │ <span style=\"color: #af87ff; text-decoration-color: #af87ff\">ir       </span> │       │ <span style=\"color: #008080; text-decoration-color: #008080\">79279527</span> │          │           │          │         │          │           │          │  │\n",
              "│ │ <span style=\"color: #af87ff; text-decoration-color: #af87ff\">WindDir9a</span> │ <span style=\"color: #008080; text-decoration-color: #008080\">10566</span> │ <span style=\"color: #008080; text-decoration-color: #008080\">7.263852</span> │ <span style=\"color: #af87ff; text-decoration-color: #af87ff\">W       </span> │ <span style=\"color: #af87ff; text-decoration-color: #af87ff\">NNW      </span> │ <span style=\"color: #af87ff; text-decoration-color: #af87ff\">E       </span> │ <span style=\"color: #af87ff; text-decoration-color: #af87ff\">WSW    </span> │ <span style=\"color: #008080; text-decoration-color: #008080\">    2.18</span> │ <span style=\"color: #008080; text-decoration-color: #008080\">     0.93</span> │ <span style=\"color: #008080; text-decoration-color: #008080\">  134894</span> │  │\n",
              "│ │ <span style=\"color: #af87ff; text-decoration-color: #af87ff\">m        </span> │       │ <span style=\"color: #008080; text-decoration-color: #008080\">60552729</span> │          │           │          │         │          │           │          │  │\n",
              "│ │           │       │ <span style=\"color: #008080; text-decoration-color: #008080\">       2</span> │          │           │          │         │          │           │          │  │\n",
              "│ │ <span style=\"color: #af87ff; text-decoration-color: #af87ff\">WindDir3p</span> │ <span style=\"color: #008080; text-decoration-color: #008080\"> 4228</span> │ <span style=\"color: #008080; text-decoration-color: #008080\">2.906641</span> │ <span style=\"color: #af87ff; text-decoration-color: #af87ff\">E       </span> │ <span style=\"color: #af87ff; text-decoration-color: #af87ff\">WNW      </span> │ <span style=\"color: #af87ff; text-decoration-color: #af87ff\">E       </span> │ <span style=\"color: #af87ff; text-decoration-color: #af87ff\">WSW    </span> │ <span style=\"color: #008080; text-decoration-color: #008080\">    2.21</span> │ <span style=\"color: #008080; text-decoration-color: #008080\">     0.97</span> │ <span style=\"color: #008080; text-decoration-color: #008080\">  141232</span> │  │\n",
              "│ │ <span style=\"color: #af87ff; text-decoration-color: #af87ff\">m        </span> │       │ <span style=\"color: #008080; text-decoration-color: #008080\">00096246</span> │          │           │          │         │          │           │          │  │\n",
              "│ │           │       │ <span style=\"color: #008080; text-decoration-color: #008080\">       4</span> │          │           │          │         │          │           │          │  │\n",
              "│ │ <span style=\"color: #af87ff; text-decoration-color: #af87ff\">RainToday</span> │ <span style=\"color: #008080; text-decoration-color: #008080\"> 3261</span> │ <span style=\"color: #008080; text-decoration-color: #008080\">2.241853</span> │ <span style=\"color: #af87ff; text-decoration-color: #af87ff\">No      </span> │ <span style=\"color: #af87ff; text-decoration-color: #af87ff\">Yes      </span> │ <span style=\"color: #af87ff; text-decoration-color: #af87ff\">No      </span> │ <span style=\"color: #af87ff; text-decoration-color: #af87ff\">Yes    </span> │ <span style=\"color: #008080; text-decoration-color: #008080\">    2.22</span> │ <span style=\"color: #008080; text-decoration-color: #008080\">     0.98</span> │ <span style=\"color: #008080; text-decoration-color: #008080\">  142199</span> │  │\n",
              "│ │           │       │ <span style=\"color: #008080; text-decoration-color: #008080\">43049635</span> │          │           │          │         │          │           │          │  │\n",
              "│ │           │       │ <span style=\"color: #008080; text-decoration-color: #008080\">       6</span> │          │           │          │         │          │           │          │  │\n",
              "│ │ <span style=\"color: #af87ff; text-decoration-color: #af87ff\">RainTomor</span> │ <span style=\"color: #008080; text-decoration-color: #008080\"> 3267</span> │ <span style=\"color: #008080; text-decoration-color: #008080\">2.245978</span> │ <span style=\"color: #af87ff; text-decoration-color: #af87ff\">No      </span> │ <span style=\"color: #af87ff; text-decoration-color: #af87ff\">Yes      </span> │ <span style=\"color: #af87ff; text-decoration-color: #af87ff\">No      </span> │ <span style=\"color: #af87ff; text-decoration-color: #af87ff\">Yes    </span> │ <span style=\"color: #008080; text-decoration-color: #008080\">    2.22</span> │ <span style=\"color: #008080; text-decoration-color: #008080\">     0.98</span> │ <span style=\"color: #008080; text-decoration-color: #008080\">  142193</span> │  │\n",
              "│ │ <span style=\"color: #af87ff; text-decoration-color: #af87ff\">row      </span> │       │ <span style=\"color: #008080; text-decoration-color: #008080\">27581465</span> │          │           │          │         │          │           │          │  │\n",
              "│ │           │       │ <span style=\"color: #008080; text-decoration-color: #008080\">       7</span> │          │           │          │         │          │           │          │  │\n",
              "│ └───────────┴───────┴──────────┴──────────┴───────────┴──────────┴─────────┴──────────┴───────────┴──────────┘  │\n",
              "╰────────────────────────────────────────────────────── End ──────────────────────────────────────────────────────╯\n",
              "</pre>"
            ]
          }
        }
      ],
      "source": [
        "# a more informative summary function from the skimpy package\n",
        "skim(df)"
      ],
      "id": "cell-summarise-data"
    },
    {
      "cell_type": "code",
      "execution_count": 20,
      "metadata": {},
      "outputs": [
        {
          "output_type": "display_data",
          "metadata": {},
          "data": {
            "text/plain": [
              "49"
            ]
          }
        }
      ],
      "source": [
        "# count unique values\n",
        "df['Location'].nunique()"
      ],
      "id": "cell-count-unique"
    },
    {
      "cell_type": "code",
      "execution_count": 21,
      "metadata": {},
      "outputs": [
        {
          "output_type": "display_data",
          "metadata": {},
          "data": {
            "text/plain": [
              "array(['Albury', 'BadgerysCreek', 'Cobar', 'CoffsHarbour', 'Moree',\n",
              "       'Newcastle', 'NorahHead', 'NorfolkIsland', 'Penrith', 'Richmond',\n",
              "       'Sydney', 'SydneyAirport', 'WaggaWagga', 'Williamtown',\n",
              "       'Wollongong', 'Canberra', 'Tuggeranong', 'MountGinini', 'Ballarat',\n",
              "       'Bendigo', 'Sale', 'MelbourneAirport', 'Melbourne', 'Mildura',\n",
              "       'Nhil', 'Portland', 'Watsonia', 'Dartmoor', 'Brisbane', 'Cairns',\n",
              "       'GoldCoast', 'Townsville', 'Adelaide', 'MountGambier', 'Nuriootpa',\n",
              "       'Woomera', 'Albany', 'Witchcliffe', 'PearceRAAF', 'PerthAirport',\n",
              "       'Perth', 'SalmonGums', 'Walpole', 'Hobart', 'Launceston',\n",
              "       'AliceSprings', 'Darwin', 'Katherine', 'Uluru'], dtype=object)"
            ]
          }
        }
      ],
      "source": [
        "# get unique values\n",
        "df['Location'].unique()"
      ],
      "id": "cell-unique-vals"
    },
    {
      "cell_type": "code",
      "execution_count": 22,
      "metadata": {},
      "outputs": [
        {
          "output_type": "display_data",
          "metadata": {},
          "data": {
            "text/plain": [
              "np.float64(7.61)"
            ]
          }
        }
      ],
      "source": [
        "# calculate variable mean\n",
        "np.round(df['Sunshine'].mean(), decimals=2)"
      ],
      "id": "cell-mean"
    },
    {
      "cell_type": "code",
      "execution_count": 23,
      "metadata": {},
      "outputs": [
        {
          "output_type": "display_data",
          "metadata": {},
          "data": {
            "text/plain": [
              "np.float64(8.4)"
            ]
          }
        }
      ],
      "source": [
        "# calculate other summary statistics\n",
        "df['Sunshine'].median()\n",
        "# df['Sunshine'].sum()"
      ],
      "id": "cell-median"
    },
    {
      "cell_type": "code",
      "execution_count": 24,
      "metadata": {},
      "outputs": [
        {
          "output_type": "display_data",
          "metadata": {},
          "data": {
            "text/plain": [
              "Location\n",
              "Adelaide            7.7\n",
              "Albany              6.7\n",
              "Albury              NaN\n",
              "AliceSprings        9.6\n",
              "BadgerysCreek       NaN\n",
              "Ballarat            NaN\n",
              "Bendigo             NaN\n",
              "Brisbane            8.1\n",
              "Cairns              7.6\n",
              "Canberra            7.4\n",
              "Cobar               8.7\n",
              "CoffsHarbour        7.4\n",
              "Dartmoor            6.5\n",
              "Darwin              8.5\n",
              "GoldCoast           NaN\n",
              "Hobart              6.6\n",
              "Katherine           NaN\n",
              "Launceston          NaN\n",
              "Melbourne           6.4\n",
              "MelbourneAirport    6.4\n",
              "Mildura             8.5\n",
              "Moree               8.9\n",
              "MountGambier        6.5\n",
              "MountGinini         NaN\n",
              "Newcastle           NaN\n",
              "Nhil                NaN\n",
              "NorahHead           NaN\n",
              "NorfolkIsland       7.0\n",
              "Nuriootpa           7.7\n",
              "PearceRAAF          8.8\n",
              "Penrith             NaN\n",
              "Perth               8.8\n",
              "PerthAirport        8.8\n",
              "Portland            6.5\n",
              "Richmond            NaN\n",
              "Sale                6.7\n",
              "SalmonGums          NaN\n",
              "Sydney              7.2\n",
              "SydneyAirport       7.2\n",
              "Townsville          8.5\n",
              "Tuggeranong         NaN\n",
              "Uluru               NaN\n",
              "WaggaWagga          8.2\n",
              "Walpole             NaN\n",
              "Watsonia            6.4\n",
              "Williamtown         7.2\n",
              "Witchcliffe         NaN\n",
              "Wollongong          NaN\n",
              "Woomera             9.0\n",
              "Name: Sunshine, dtype: float64"
            ]
          }
        }
      ],
      "source": [
        "# calculate group means\n",
        "np.round(df.groupby(by='Location')['Sunshine'].mean(), decimals=1)"
      ],
      "id": "cell-group-means"
    },
    {
      "cell_type": "code",
      "execution_count": 25,
      "metadata": {},
      "outputs": [
        {
          "output_type": "display_data",
          "metadata": {},
          "data": {
            "text/plain": [
              "Location\n",
              "Adelaide            1769\n",
              "Albany              2520\n",
              "Albury                 0\n",
              "AliceSprings        2520\n",
              "BadgerysCreek          0\n",
              "Ballarat               0\n",
              "Bendigo                0\n",
              "Brisbane            3144\n",
              "Cairns              2564\n",
              "Canberra            1521\n",
              "Cobar                550\n",
              "CoffsHarbour        1494\n",
              "Dartmoor            2566\n",
              "Darwin              3189\n",
              "GoldCoast              0\n",
              "Hobart              3179\n",
              "Katherine              0\n",
              "Launceston             0\n",
              "Melbourne           3192\n",
              "MelbourneAirport    3008\n",
              "Mildura             2876\n",
              "Moree               2055\n",
              "MountGambier        2597\n",
              "MountGinini            0\n",
              "Newcastle              0\n",
              "Nhil                   0\n",
              "NorahHead              0\n",
              "NorfolkIsland       2570\n",
              "Nuriootpa           2848\n",
              "PearceRAAF          3004\n",
              "Penrith                0\n",
              "Perth               3188\n",
              "PerthAirport        3004\n",
              "Portland            2566\n",
              "Richmond               0\n",
              "Sale                1818\n",
              "SalmonGums             0\n",
              "Sydney              3328\n",
              "SydneyAirport       2993\n",
              "Townsville          2617\n",
              "Tuggeranong            0\n",
              "Uluru                  0\n",
              "WaggaWagga          2575\n",
              "Walpole                0\n",
              "Watsonia            3008\n",
              "Williamtown         1355\n",
              "Witchcliffe            0\n",
              "Wollongong             0\n",
              "Woomera             2007\n",
              "Name: Sunshine, dtype: int64"
            ]
          }
        }
      ],
      "source": [
        "# group by location and count non-null sunshine values\n",
        "df.groupby('Location')['Sunshine'].count()"
      ],
      "id": "cell-count-group-non-nulls"
    },
    {
      "cell_type": "markdown",
      "metadata": {},
      "source": [
        "## Exercises\n",
        "\n",
        "Some of these questions are easily answered by scrolling up and finding\n",
        "the answer in the output of the above code, however, the goal is to find\n",
        "the answer using code. No one actually cares what the answer to any of\n",
        "these questions is, it’s the process that matters!\n",
        "\n",
        "**Remember, if you don’t know the answer, it’s okay to Google it (or\n",
        "speak to others, including me, for help)!**\n",
        "\n",
        "1.  What is the ‘Sunshine’ column’s data type?\n",
        "2.  Identify all the columns that are of dtype ‘object’.\n",
        "3.  How many of the dataframe’s columns are of dtype ‘object’?\n",
        "4.  How many of the ‘Rainfall’ column values are NAs?\n",
        "5.  Create a new dataframe which only includes the ‘Date’, ‘Location,\n",
        "    ’Sunshine’, ‘Rainfall’, and ‘RainTomorrow’ columns.\n",
        "6.  Convert ‘RainTomorrow’ to a numeric variable, where ‘Yes’ = 1 and\n",
        "    ‘No’ = 0.\n",
        "7.  What is the average amount of rainfall for each location?\n",
        "8.  What is the average amount of rainfall for days that it will rain\n",
        "    tomorrow?\n",
        "9.  What is the average amount of sunshine in Perth when it will not\n",
        "    rain tomorrow?\n",
        "10. We want to understand the role that time plays in the dataset. Using\n",
        "    the original dataframe, carry the following tasks and answer the\n",
        "    corresponding questions:\n",
        "    -   Create columns representing the year and month from the ‘Date’\n",
        "        column. How many years of data are in the dataset?\n",
        "    -   Examine the distribution of the ‘Sunshine’ NAs over time. Is\n",
        "        time a component in the ‘Sunshine’ data quality issues?\n",
        "    -   Calculate the average rainfall and sunshine by month. How do\n",
        "        rainfall and sunshine vary through the year?\n",
        "    -   Calculate the average rainfall and sunshine by year. How have\n",
        "        rainfall and sunshine changed over time?\n",
        "\n",
        "### Solutions"
      ],
      "id": "811bfd20-03ca-4eec-9d9b-9968051a8d97"
    },
    {
      "cell_type": "code",
      "execution_count": 26,
      "metadata": {},
      "outputs": [],
      "source": [
        "# import packages\n",
        "import numpy as np\n",
        "import pandas as pd"
      ],
      "id": "189936aa"
    },
    {
      "cell_type": "code",
      "execution_count": 27,
      "metadata": {},
      "outputs": [],
      "source": [
        "# import the dataset\n",
        "df = pd.read_csv('data/weatherAUS.csv')"
      ],
      "id": "ac4c4b86"
    },
    {
      "cell_type": "markdown",
      "metadata": {},
      "source": [
        "1.  What is the ‘Sunshine’ column’s data type?"
      ],
      "id": "e72c74b3-769b-497f-871a-0a91d75f3dd5"
    },
    {
      "cell_type": "code",
      "execution_count": 28,
      "metadata": {},
      "outputs": [
        {
          "output_type": "display_data",
          "metadata": {},
          "data": {
            "text/plain": [
              "dtype('float64')"
            ]
          }
        }
      ],
      "source": [
        "# What is the 'Sunshine' column's data type?\n",
        "df['Sunshine'].dtypes"
      ],
      "id": "663cb520"
    },
    {
      "cell_type": "markdown",
      "metadata": {},
      "source": [
        "1.  Identify all the columns that are of dtype ‘object’."
      ],
      "id": "3e415fb4-8e6e-4337-8f89-b4f304e98c92"
    },
    {
      "cell_type": "code",
      "execution_count": 29,
      "metadata": {},
      "outputs": [
        {
          "output_type": "display_data",
          "metadata": {},
          "data": {
            "text/plain": [
              "['Date',\n",
              " 'Location',\n",
              " 'WindGustDir',\n",
              " 'WindDir9am',\n",
              " 'WindDir3pm',\n",
              " 'RainToday',\n",
              " 'RainTomorrow']"
            ]
          }
        }
      ],
      "source": [
        "# Identify all the columns that are of dtype 'object'\n",
        "list(df.select_dtypes(include=['object']))"
      ],
      "id": "cc156edc"
    },
    {
      "cell_type": "markdown",
      "metadata": {},
      "source": [
        "1.  How many of the dataframe’s columns are of dtype ‘object’?"
      ],
      "id": "ff096ff2-48ad-487f-ba30-c04467b56127"
    },
    {
      "cell_type": "code",
      "execution_count": 30,
      "metadata": {},
      "outputs": [
        {
          "output_type": "display_data",
          "metadata": {},
          "data": {
            "text/plain": [
              "7"
            ]
          }
        }
      ],
      "source": [
        "# How many of the dataframe's columns are of dtype 'object'?\n",
        "len(list(df.select_dtypes(include=['object'])))"
      ],
      "id": "d2363738"
    },
    {
      "cell_type": "markdown",
      "metadata": {},
      "source": [
        "1.  How many of the ‘Rainfall’ column values are NAs?"
      ],
      "id": "54e287bf-a9c7-46c8-85d7-60831a1323df"
    },
    {
      "cell_type": "code",
      "execution_count": 31,
      "metadata": {},
      "outputs": [
        {
          "output_type": "display_data",
          "metadata": {},
          "data": {
            "text/plain": [
              "np.int64(3261)"
            ]
          }
        }
      ],
      "source": [
        "# How many of the 'Rainfall' column values are NAs?\n",
        "df['Rainfall'].isna().sum()"
      ],
      "id": "d7f67f0f"
    },
    {
      "cell_type": "markdown",
      "metadata": {},
      "source": [
        "1.  Create a new dataframe which only includes the ‘Date’, ‘Location,\n",
        "    ’Sunshine’, ‘Rainfall’, and ‘RainTomorrow’ columns."
      ],
      "id": "16d7376b-37af-46bd-b28c-1a733be05018"
    },
    {
      "cell_type": "code",
      "execution_count": 32,
      "metadata": {},
      "outputs": [
        {
          "output_type": "display_data",
          "metadata": {},
          "data": {
            "text/html": [
              "\n",
              "</div>"
            ]
          }
        }
      ],
      "source": [
        "# Create a new dataframe which only includes the 'Date', 'Location, 'Sunshine', 'Rainfall', and 'RainTomorrow' columns.\n",
        "new_df = df[['Date', 'Location', 'Sunshine', 'Rainfall', 'RainTomorrow']]\n",
        "new_df.head()"
      ],
      "id": "4b0e8b72"
    },
    {
      "cell_type": "markdown",
      "metadata": {},
      "source": [
        "1.  Convert ‘RainTomorrow’ to a numeric variable, where ‘Yes’ = 1 and\n",
        "    ‘No’ = 0."
      ],
      "id": "bb019ee1-1087-4d76-987d-8ae366989b3d"
    },
    {
      "cell_type": "code",
      "execution_count": 33,
      "metadata": {},
      "outputs": [
        {
          "output_type": "display_data",
          "metadata": {},
          "data": {
            "text/plain": [
              "0         0.0\n",
              "1         0.0\n",
              "2         0.0\n",
              "3         0.0\n",
              "4         0.0\n",
              "         ... \n",
              "145455    0.0\n",
              "145456    0.0\n",
              "145457    0.0\n",
              "145458    0.0\n",
              "145459    NaN\n",
              "Name: RainTomorrow, Length: 145460, dtype: float64"
            ]
          }
        }
      ],
      "source": [
        "# Convert 'RainTomorrow' to a numeric variable, where 'Yes' = 1 and 'No' = 0.\n",
        "# df['Location'].astype('category').cat.codes\n",
        "# df['RainTomorrow'].astype('category').cat.codes\n",
        "df['RainTomorrow'].map({'Yes': 1, 'No': 0})"
      ],
      "id": "794d3317"
    },
    {
      "cell_type": "markdown",
      "metadata": {},
      "source": [
        "1.  What is the average amount of rainfall for each location?"
      ],
      "id": "4ec52ffa-94fe-446c-9d4b-74f27e820a47"
    },
    {
      "cell_type": "code",
      "execution_count": 34,
      "metadata": {},
      "outputs": [
        {
          "output_type": "display_data",
          "metadata": {},
          "data": {
            "text/plain": [
              "Location\n",
              "Cairns              5.742035\n",
              "Darwin              5.092452\n",
              "CoffsHarbour        5.061497\n",
              "GoldCoast           3.769396\n",
              "Wollongong          3.594903\n",
              "Williamtown         3.591108\n",
              "Townsville          3.485592\n",
              "NorahHead           3.387299\n",
              "Sydney              3.324543\n",
              "MountGinini         3.292260\n",
              "Katherine           3.201090\n",
              "Newcastle           3.183892\n",
              "Brisbane            3.144891\n",
              "NorfolkIsland       3.127665\n",
              "SydneyAirport       3.009917\n",
              "Walpole             2.906846\n",
              "Witchcliffe         2.895664\n",
              "Portland            2.530374\n",
              "Albany              2.263859\n",
              "BadgerysCreek       2.193101\n",
              "Penrith             2.175304\n",
              "Tuggeranong         2.164043\n",
              "Dartmoor            2.146567\n",
              "Richmond            2.138462\n",
              "MountGambier        2.087562\n",
              "Launceston          2.011988\n",
              "Albury              1.914115\n",
              "Perth               1.906295\n",
              "Melbourne           1.870062\n",
              "Watsonia            1.860820\n",
              "PerthAirport        1.761648\n",
              "Canberra            1.741720\n",
              "Ballarat            1.740026\n",
              "WaggaWagga          1.709946\n",
              "PearceRAAF          1.669080\n",
              "Moree               1.630203\n",
              "Bendigo             1.619380\n",
              "Hobart              1.601819\n",
              "Adelaide            1.566354\n",
              "Sale                1.510167\n",
              "MelbourneAirport    1.451977\n",
              "Nuriootpa           1.390343\n",
              "Cobar               1.127309\n",
              "SalmonGums          1.034382\n",
              "Mildura             0.945062\n",
              "Nhil                0.934863\n",
              "AliceSprings        0.882850\n",
              "Uluru               0.784363\n",
              "Woomera             0.490405\n",
              "Name: Rainfall, dtype: float64"
            ]
          }
        }
      ],
      "source": [
        "# What is the average amount of rainfall for each location?\n",
        "df.groupby('Location')['Rainfall'].mean().sort_values(ascending=False)"
      ],
      "id": "32c38ebd"
    },
    {
      "cell_type": "markdown",
      "metadata": {},
      "source": [
        "1.  What is the average amount of rainfall for days that it will rain\n",
        "    tomorrow?"
      ],
      "id": "84fad497-bf92-4b7b-a516-7f71f78f72a0"
    },
    {
      "cell_type": "code",
      "execution_count": 35,
      "metadata": {},
      "outputs": [
        {
          "output_type": "display_data",
          "metadata": {},
          "data": {
            "text/plain": [
              "RainTomorrow\n",
              "No     1.270290\n",
              "Yes    6.142104\n",
              "Name: Rainfall, dtype: float64"
            ]
          }
        }
      ],
      "source": [
        "# What is the average amount of rainfall for days that it will rain tomorrow?\n",
        "df.groupby('RainTomorrow')['Rainfall'].mean()"
      ],
      "id": "c114a0d5"
    },
    {
      "cell_type": "markdown",
      "metadata": {},
      "source": [
        "1.  What is the average amount of sunshine in Perth when it will not\n",
        "    rain tomorrow?"
      ],
      "id": "7f33cce1-31b4-4c4d-a780-96bd76e7a402"
    },
    {
      "cell_type": "code",
      "execution_count": 36,
      "metadata": {},
      "outputs": [
        {
          "output_type": "display_data",
          "metadata": {},
          "data": {
            "text/plain": [
              "np.float64(9.705306603773584)"
            ]
          }
        }
      ],
      "source": [
        "# What is the average amount of sunshine in Perth when it will not rain tomorrow?\n",
        "df.loc[(df['Location'] == 'Perth') & (df['RainTomorrow'] == 'No'), 'Sunshine'].mean()\n",
        "# df[(df['Location']=='Perth') & (df['RainTomorrow']=='No')]['Sunshine'].mean()"
      ],
      "id": "39730916"
    },
    {
      "cell_type": "markdown",
      "metadata": {},
      "source": [
        "1.  We want to understand the role that time plays in the dataset. Using\n",
        "    the original dataframe, carry the following tasks and answer the\n",
        "    corresponding questions:\n",
        "    -   Create columns representing the year and month from the ‘Date’\n",
        "        column. How many years of data are in the dataset?\n",
        "    -   Examine the distribution of the ‘Sunshine’ NAs over time. Is\n",
        "        time a component in the ‘Sunshine’ data quality issues?\n",
        "    -   Calculate the average rainfall and sunshine by month. How do\n",
        "        rainfall and sunshine vary through the year?\n",
        "    -   Calculate the average rainfall and sunshine by year. How have\n",
        "        rainfall and sunshine changed over time?"
      ],
      "id": "0648c0cf-1119-43a7-b729-9fc11e802e10"
    },
    {
      "cell_type": "code",
      "execution_count": 37,
      "metadata": {},
      "outputs": [
        {
          "output_type": "display_data",
          "metadata": {},
          "data": {
            "text/plain": [
              "11"
            ]
          }
        }
      ],
      "source": [
        "# Create columns representing the year and month from the 'Date' column. How many years of data are in the dataset?\n",
        "df = (\n",
        "    df.assign(Date=pd.to_datetime(df['Date']))\n",
        "    .assign(\n",
        "        Year=lambda x: x['Date'].dt.year,\n",
        "        Month=lambda x: x['Date'].dt.month\n",
        "    )\n",
        ")\n",
        "\n",
        "df['Year'].nunique()"
      ],
      "id": "b4fecea8"
    },
    {
      "cell_type": "code",
      "execution_count": 38,
      "metadata": {},
      "outputs": [
        {
          "output_type": "display_data",
          "metadata": {},
          "data": {
            "text/plain": [
              "Year\n",
              "2007        0\n",
              "2008      323\n",
              "2009     6146\n",
              "2010     6220\n",
              "2011     6053\n",
              "2012     6539\n",
              "2013     7570\n",
              "2014     9157\n",
              "2015     9441\n",
              "2016    11994\n",
              "2017     6392\n",
              "Name: Sunshine, dtype: int64"
            ]
          }
        }
      ],
      "source": [
        "# Examine the distribution of the 'Sunshine' NAs over time. Is time a component in the 'Sunshine' data quality issues?\n",
        "df.groupby('Year')['Sunshine'].apply(lambda x: x.isna().sum())"
      ],
      "id": "361165b9"
    },
    {
      "cell_type": "code",
      "execution_count": 39,
      "metadata": {},
      "outputs": [
        {
          "output_type": "display_data",
          "metadata": {},
          "data": {
            "text/html": [
              "\n",
              "</div>"
            ]
          }
        }
      ],
      "source": [
        "# Calculate the average rainfall and sunshine by month. How do rainfall and sunshine vary through the year?\n",
        "df.groupby('Month')[['Rainfall', 'Sunshine']].mean()"
      ],
      "id": "6dd12549"
    },
    {
      "cell_type": "code",
      "execution_count": 40,
      "metadata": {},
      "outputs": [
        {
          "output_type": "display_data",
          "metadata": {},
          "data": {
            "text/html": [
              "\n",
              "</div>"
            ]
          }
        }
      ],
      "source": [
        "# Calculate the average rainfall and sunshine by year. How have rainfall and sunshine changed over time?\n",
        "df.groupby('Year')[['Rainfall', 'Sunshine']].mean()"
      ],
      "id": "e9237a3a"
    }
  ],
  "nbformat": 4,
  "nbformat_minor": 5,
  "metadata": {
    "kernelspec": {
      "name": "python3",
      "display_name": "Python 3 (ipykernel)",
      "language": "python",
      "path": "c:.johnson-club.venv"
    },
    "language_info": {
      "name": "python",
      "codemirror_mode": {
        "name": "ipython",
        "version": "3"
      },
      "file_extension": ".py",
      "mimetype": "text/x-python",
      "nbconvert_exporter": "python",
      "pygments_lexer": "ipython3",
      "version": "3.12.5"
    }
  }
}