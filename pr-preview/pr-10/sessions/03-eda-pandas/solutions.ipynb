{
  "cells": [
    {
      "cell_type": "markdown",
      "metadata": {},
      "source": [
        "# EDA Exercise Solutions"
      ],
      "id": "8cd12e7f-3a8b-46c7-ab6c-c536c3a62fb9"
    },
    {
      "cell_type": "code",
      "execution_count": 1,
      "metadata": {},
      "outputs": [],
      "source": [
        "# import packages\n",
        "import numpy as np\n",
        "import pandas as pd"
      ],
      "id": "2aadb5df"
    },
    {
      "cell_type": "code",
      "execution_count": 2,
      "metadata": {},
      "outputs": [],
      "source": [
        "# import the dataset\n",
        "df = pd.read_csv('data/weatherAUS.csv')"
      ],
      "id": "da4dd1e7"
    },
    {
      "cell_type": "markdown",
      "metadata": {},
      "source": [
        "1.  What is the ‘Sunshine’ column’s data type?"
      ],
      "id": "0f4b3ea2-c1ac-4b73-a3c8-50e4a4543dd1"
    },
    {
      "cell_type": "code",
      "execution_count": 3,
      "metadata": {},
      "outputs": [
        {
          "output_type": "display_data",
          "metadata": {},
          "data": {
            "text/plain": [
              "dtype('float64')"
            ]
          }
        }
      ],
      "source": [
        "# What is the 'Sunshine' column's data type?\n",
        "df['Sunshine'].dtypes"
      ],
      "id": "5f100dc1"
    },
    {
      "cell_type": "markdown",
      "metadata": {},
      "source": [
        "1.  Identify all the columns that are of dtype ‘object’."
      ],
      "id": "72f5756a-80c4-4a35-bf6e-5aaef19b58bf"
    },
    {
      "cell_type": "code",
      "execution_count": 4,
      "metadata": {},
      "outputs": [
        {
          "output_type": "display_data",
          "metadata": {},
          "data": {
            "text/plain": [
              "['Date',\n",
              " 'Location',\n",
              " 'WindGustDir',\n",
              " 'WindDir9am',\n",
              " 'WindDir3pm',\n",
              " 'RainToday',\n",
              " 'RainTomorrow']"
            ]
          }
        }
      ],
      "source": [
        "# Identify all the columns that are of dtype 'object'\n",
        "list(df.select_dtypes(include=['object']))"
      ],
      "id": "868a4ca2"
    },
    {
      "cell_type": "markdown",
      "metadata": {},
      "source": [
        "1.  How many of the dataframe’s columns are of dtype ‘object’?"
      ],
      "id": "c9bdfca1-ba4a-4550-8e5d-e92fbbc19dd4"
    },
    {
      "cell_type": "code",
      "execution_count": 5,
      "metadata": {},
      "outputs": [
        {
          "output_type": "display_data",
          "metadata": {},
          "data": {
            "text/plain": [
              "7"
            ]
          }
        }
      ],
      "source": [
        "# How many of the dataframe's columns are of dtype 'object'?\n",
        "len(list(df.select_dtypes(include=['object'])))"
      ],
      "id": "0b0a92ea"
    },
    {
      "cell_type": "markdown",
      "metadata": {},
      "source": [
        "1.  How many of the ‘Rainfall’ column values are NAs?"
      ],
      "id": "454b2ccd-9043-491e-892f-1b8a4dd96475"
    },
    {
      "cell_type": "code",
      "execution_count": 6,
      "metadata": {},
      "outputs": [
        {
          "output_type": "display_data",
          "metadata": {},
          "data": {
            "text/plain": [
              "np.int64(3261)"
            ]
          }
        }
      ],
      "source": [
        "# How many of the 'Rainfall' column values are NAs?\n",
        "df['Rainfall'].isna().sum()"
      ],
      "id": "c496f0d4"
    },
    {
      "cell_type": "markdown",
      "metadata": {},
      "source": [
        "1.  Create a new dataframe which only includes the ‘Date’, ‘Location,\n",
        "    ’Sunshine’, ‘Rainfall’, and ‘RainTomorrow’ columns."
      ],
      "id": "6be5e6ac-4306-4cfb-aea9-30af54596db4"
    },
    {
      "cell_type": "code",
      "execution_count": 7,
      "metadata": {},
      "outputs": [
        {
          "output_type": "display_data",
          "metadata": {},
          "data": {
            "text/html": [
              "\n",
              "</div>"
            ]
          }
        }
      ],
      "source": [
        "# Create a new dataframe which only includes the 'Date', 'Location, 'Sunshine', 'Rainfall', and 'RainTomorrow' columns.\n",
        "new_df = df[['Date', 'Location', 'Sunshine', 'Rainfall', 'RainTomorrow']]\n",
        "new_df.head()"
      ],
      "id": "449d8ec4"
    },
    {
      "cell_type": "markdown",
      "metadata": {},
      "source": [
        "1.  Convert ‘RainTomorrow’ to a numeric variable, where ‘Yes’ = 1 and\n",
        "    ‘No’ = 0."
      ],
      "id": "ed3d425b-d3df-4910-b4f4-16c4ce67644c"
    },
    {
      "cell_type": "code",
      "execution_count": 8,
      "metadata": {},
      "outputs": [
        {
          "output_type": "display_data",
          "metadata": {},
          "data": {
            "text/plain": [
              "0         0.0\n",
              "1         0.0\n",
              "2         0.0\n",
              "3         0.0\n",
              "4         0.0\n",
              "         ... \n",
              "145455    0.0\n",
              "145456    0.0\n",
              "145457    0.0\n",
              "145458    0.0\n",
              "145459    NaN\n",
              "Name: RainTomorrow, Length: 145460, dtype: float64"
            ]
          }
        }
      ],
      "source": [
        "# Convert 'RainTomorrow' to a numeric variable, where 'Yes' = 1 and 'No' = 0.\n",
        "# df['Location'].astype('category').cat.codes\n",
        "# df['RainTomorrow'].astype('category').cat.codes\n",
        "df['RainTomorrow'].map({'Yes': 1, 'No': 0})"
      ],
      "id": "1eff9d82"
    },
    {
      "cell_type": "markdown",
      "metadata": {},
      "source": [
        "1.  What is the average amount of rainfall for each location?"
      ],
      "id": "da8f94cd-7d02-4849-b7dc-8dd406f01615"
    },
    {
      "cell_type": "code",
      "execution_count": 9,
      "metadata": {},
      "outputs": [
        {
          "output_type": "display_data",
          "metadata": {},
          "data": {
            "text/plain": [
              "Location\n",
              "Cairns              5.742035\n",
              "Darwin              5.092452\n",
              "CoffsHarbour        5.061497\n",
              "GoldCoast           3.769396\n",
              "Wollongong          3.594903\n",
              "Williamtown         3.591108\n",
              "Townsville          3.485592\n",
              "NorahHead           3.387299\n",
              "Sydney              3.324543\n",
              "MountGinini         3.292260\n",
              "Katherine           3.201090\n",
              "Newcastle           3.183892\n",
              "Brisbane            3.144891\n",
              "NorfolkIsland       3.127665\n",
              "SydneyAirport       3.009917\n",
              "Walpole             2.906846\n",
              "Witchcliffe         2.895664\n",
              "Portland            2.530374\n",
              "Albany              2.263859\n",
              "BadgerysCreek       2.193101\n",
              "Penrith             2.175304\n",
              "Tuggeranong         2.164043\n",
              "Dartmoor            2.146567\n",
              "Richmond            2.138462\n",
              "MountGambier        2.087562\n",
              "Launceston          2.011988\n",
              "Albury              1.914115\n",
              "Perth               1.906295\n",
              "Melbourne           1.870062\n",
              "Watsonia            1.860820\n",
              "PerthAirport        1.761648\n",
              "Canberra            1.741720\n",
              "Ballarat            1.740026\n",
              "WaggaWagga          1.709946\n",
              "PearceRAAF          1.669080\n",
              "Moree               1.630203\n",
              "Bendigo             1.619380\n",
              "Hobart              1.601819\n",
              "Adelaide            1.566354\n",
              "Sale                1.510167\n",
              "MelbourneAirport    1.451977\n",
              "Nuriootpa           1.390343\n",
              "Cobar               1.127309\n",
              "SalmonGums          1.034382\n",
              "Mildura             0.945062\n",
              "Nhil                0.934863\n",
              "AliceSprings        0.882850\n",
              "Uluru               0.784363\n",
              "Woomera             0.490405\n",
              "Name: Rainfall, dtype: float64"
            ]
          }
        }
      ],
      "source": [
        "# What is the average amount of rainfall for each location?\n",
        "df.groupby('Location')['Rainfall'].mean().sort_values(ascending=False)"
      ],
      "id": "19a3479d"
    },
    {
      "cell_type": "markdown",
      "metadata": {},
      "source": [
        "1.  What is the average amount of rainfall for days that it will rain\n",
        "    tomorrow?"
      ],
      "id": "dc1cc735-53aa-4811-8db7-ba675c93e33e"
    },
    {
      "cell_type": "code",
      "execution_count": 10,
      "metadata": {},
      "outputs": [
        {
          "output_type": "display_data",
          "metadata": {},
          "data": {
            "text/plain": [
              "RainTomorrow\n",
              "No     1.270290\n",
              "Yes    6.142104\n",
              "Name: Rainfall, dtype: float64"
            ]
          }
        }
      ],
      "source": [
        "# What is the average amount of rainfall for days that it will rain tomorrow?\n",
        "df.groupby('RainTomorrow')['Rainfall'].mean()"
      ],
      "id": "ad94ce5a"
    },
    {
      "cell_type": "markdown",
      "metadata": {},
      "source": [
        "1.  What is the average amount of sunshine in Perth when it will not\n",
        "    rain tomorrow?"
      ],
      "id": "33624be4-3a29-4fa3-beb0-3d4888991ecb"
    },
    {
      "cell_type": "code",
      "execution_count": 11,
      "metadata": {},
      "outputs": [
        {
          "output_type": "display_data",
          "metadata": {},
          "data": {
            "text/plain": [
              "np.float64(9.705306603773584)"
            ]
          }
        }
      ],
      "source": [
        "# What is the average amount of sunshine in Perth when it will not rain tomorrow?\n",
        "df.loc[(df['Location'] == 'Perth') & (df['RainTomorrow'] == 'No'), 'Sunshine'].mean()\n",
        "# df[(df['Location']=='Perth') & (df['RainTomorrow']=='No')]['Sunshine'].mean()"
      ],
      "id": "1be5b878"
    },
    {
      "cell_type": "markdown",
      "metadata": {},
      "source": [
        "1.  We want to understand the role that time plays in the dataset. Using\n",
        "    the original dataframe, carry the following tasks and answer the\n",
        "    corresponding questions:\n",
        "    -   Create columns representing the year and month from the ‘Date’\n",
        "        column. How many years of data are in the dataset?\n",
        "    -   Examine the distribution of the ‘Sunshine’ NAs over time. Is\n",
        "        time a component in the ‘Sunshine’ data quality issues?\n",
        "    -   Calculate the average rainfall and sunshine by month. How do\n",
        "        rainfall and sunshine vary through the year?\n",
        "    -   Calculate the average rainfall and sunshine by year. How have\n",
        "        rainfall and sunshine changed over time?"
      ],
      "id": "5138df34-6049-40e0-8b80-27388f674a13"
    },
    {
      "cell_type": "code",
      "execution_count": 12,
      "metadata": {},
      "outputs": [
        {
          "output_type": "display_data",
          "metadata": {},
          "data": {
            "text/plain": [
              "11"
            ]
          }
        }
      ],
      "source": [
        "# Create columns representing the year and month from the 'Date' column. How many years of data are in the dataset?\n",
        "df = (\n",
        "    df.assign(Date=pd.to_datetime(df['Date']))\n",
        "    .assign(\n",
        "        Year=lambda x: x['Date'].dt.year,\n",
        "        Month=lambda x: x['Date'].dt.month\n",
        "    )\n",
        ")\n",
        "\n",
        "df['Year'].nunique()"
      ],
      "id": "e23965a8"
    },
    {
      "cell_type": "code",
      "execution_count": 13,
      "metadata": {},
      "outputs": [
        {
          "output_type": "display_data",
          "metadata": {},
          "data": {
            "text/plain": [
              "Year\n",
              "2007        0\n",
              "2008      323\n",
              "2009     6146\n",
              "2010     6220\n",
              "2011     6053\n",
              "2012     6539\n",
              "2013     7570\n",
              "2014     9157\n",
              "2015     9441\n",
              "2016    11994\n",
              "2017     6392\n",
              "Name: Sunshine, dtype: int64"
            ]
          }
        }
      ],
      "source": [
        "# Examine the distribution of the 'Sunshine' NAs over time. Is time a component in the 'Sunshine' data quality issues?\n",
        "df.groupby('Year')['Sunshine'].apply(lambda x: x.isna().sum())"
      ],
      "id": "39ef86fe"
    },
    {
      "cell_type": "code",
      "execution_count": 14,
      "metadata": {},
      "outputs": [
        {
          "output_type": "display_data",
          "metadata": {},
          "data": {
            "text/html": [
              "\n",
              "</div>"
            ]
          }
        }
      ],
      "source": [
        "# Calculate the average rainfall and sunshine by month. How do rainfall and sunshine vary through the year?\n",
        "df.groupby('Month')[['Rainfall', 'Sunshine']].mean()"
      ],
      "id": "fdba0e64"
    },
    {
      "cell_type": "code",
      "execution_count": 15,
      "metadata": {},
      "outputs": [
        {
          "output_type": "display_data",
          "metadata": {},
          "data": {
            "text/html": [
              "\n",
              "</div>"
            ]
          }
        }
      ],
      "source": [
        "# Calculate the average rainfall and sunshine by year. How have rainfall and sunshine changed over time?\n",
        "df.groupby('Year')[['Rainfall', 'Sunshine']].mean()"
      ],
      "id": "f1f96b28"
    }
  ],
  "nbformat": 4,
  "nbformat_minor": 5,
  "metadata": {
    "kernelspec": {
      "name": "python3",
      "display_name": "Python 3 (ipykernel)",
      "language": "python",
      "path": "c:.johnson-club.venv"
    },
    "language_info": {
      "name": "python",
      "codemirror_mode": {
        "name": "ipython",
        "version": "3"
      },
      "file_extension": ".py",
      "mimetype": "text/x-python",
      "nbconvert_exporter": "python",
      "pygments_lexer": "ipython3",
      "version": "3.12.5"
    }
  }
}