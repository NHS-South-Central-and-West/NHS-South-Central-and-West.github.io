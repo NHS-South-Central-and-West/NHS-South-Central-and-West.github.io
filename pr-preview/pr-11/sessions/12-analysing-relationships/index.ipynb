{
  "cells": [
    {
      "cell_type": "markdown",
      "metadata": {},
      "source": [
        "# Analysing ~~Penguins~~ Relationships\n",
        "\n",
        "This notebook explores relationships in data and the process for\n",
        "analysing relationships, using the **TidyTuesday Palmer Penguins**\n",
        "dataset. We’ll cover:\n",
        "\n",
        "-   Variable types & framing\n",
        "-   Visual exploration of relationships\n",
        "-   Calculating correlation\n",
        "-   Limitations with correlation and visual exploration\n",
        "\n",
        "## Why Analyse Relationships?\n",
        "\n",
        "We’ve learned to ask “Does A differ from B?”, but now we can ask, “How\n",
        "do two measures move together?”\n",
        "\n",
        "In this session, we’ll explore the penguins dataset to see how body mass\n",
        "relates to flipper length, how bill length relates to bill depth, and\n",
        "how to identify relationships between continuous traits.\n",
        "\n",
        "## Variables & Framing\n",
        "\n",
        "In our previous session, comparing samples, we were comparing the\n",
        "average value of a continuous variable by groups (categorical\n",
        "variables).\n",
        "\n",
        "Here we will compare two continuous variables, considering how one\n",
        "variable (the outcome) changes in response to changes in the other\n",
        "variable (the predictor).\n",
        "\n",
        "There is only a subtle difference between the idea of comparing samples\n",
        "and analysing relationships. You can frame a comparison between groups\n",
        "as analysing the relationship between the groups and the continuous\n",
        "variable, but you are still comparing the average value and dispersion\n",
        "for each group and inferring the relationship (or association) from\n",
        "this. When comparing two continuous variables, you can’t reduce either\n",
        "to their average, and are instead making statements about the way they\n",
        "vary together.\n",
        "\n",
        "## Load & Preview Penguins Data"
      ],
      "id": "54679459-2df1-4802-8732-a583bfa8f6cd"
    },
    {
      "cell_type": "code",
      "execution_count": 1,
      "metadata": {},
      "outputs": [
        {
          "output_type": "display_data",
          "metadata": {},
          "data": {
            "text/html": [
              "\n",
              "</div>"
            ]
          }
        }
      ],
      "source": [
        "import pandas as pd\n",
        "\n",
        "# load penguins data from TidyTuesday URL\n",
        "url = 'https://raw.githubusercontent.com/rfordatascience/tidytuesday/main/data/2025/2025-04-15/penguins.csv'\n",
        "penguins_raw = pd.read_csv(url)\n",
        "penguins_raw.head()"
      ],
      "id": "cell-import-data"
    },
    {
      "cell_type": "markdown",
      "metadata": {},
      "source": [
        "There are several missing values in this dataset. While we should\n",
        "generally be a little careful when discarding missing values, we will do\n",
        "so here just to simplify the process."
      ],
      "id": "432c4cf2-76c1-457d-b7da-c70276ffbdcb"
    },
    {
      "cell_type": "code",
      "execution_count": 2,
      "metadata": {},
      "outputs": [
        {
          "output_type": "display_data",
          "metadata": {},
          "data": {
            "text/plain": [
              "(333, 8)"
            ]
          }
        }
      ],
      "source": [
        "# drop missing values\n",
        "df = penguins_raw.dropna()\n",
        "df.shape"
      ],
      "id": "cell-clean-data"
    },
    {
      "cell_type": "markdown",
      "metadata": {},
      "source": [
        "## Visualing Relationships"
      ],
      "id": "7ba82b1f-a7c1-42f4-9544-d39daafc9d26"
    },
    {
      "cell_type": "code",
      "execution_count": 3,
      "metadata": {},
      "outputs": [
        {
          "output_type": "display_data",
          "metadata": {},
          "data": {}
        }
      ],
      "source": [
        "import matplotlib.pyplot as plt\n",
        "import seaborn as sns\n",
        "\n",
        "# scatter of flipper length vs. body mass\n",
        "plt.figure(figsize=(8, 6))\n",
        "sns.scatterplot(\n",
        "    data=df,\n",
        "    x='flipper_len',\n",
        "    y='body_mass',\n",
        "    hue='species',\n",
        "    alpha=0.7\n",
        ")\n",
        "plt.title('The Relationship Between Flipper Length & Body Mass')\n",
        "plt.xlabel('Flipper Length (mm)')\n",
        "plt.ylabel('Body Mass (g)')\n",
        "plt.show()"
      ],
      "id": "cell-fig-flipper-mass-scatter-plot"
    },
    {
      "cell_type": "markdown",
      "metadata": {},
      "source": [
        "**Questions:**\n",
        "\n",
        "-   What pattern do you see in <a href=\"#fig-flipper-mass-scatter-plot\"\n",
        "    class=\"quarto-xref\">Figure 1</a>?\n",
        "-   How does body mass change when flipper length increases, according\n",
        "    to this plot?\n",
        "-   Are there differences by species?"
      ],
      "id": "ac8ccfbd-1638-4a60-8409-4203b091c04d"
    },
    {
      "cell_type": "code",
      "execution_count": 4,
      "metadata": {},
      "outputs": [
        {
          "output_type": "display_data",
          "metadata": {},
          "data": {}
        }
      ],
      "source": [
        "# scatter of bill length vs. bill depth\n",
        "plt.figure(figsize=(8, 6))\n",
        "sns.scatterplot(\n",
        "    data=df,\n",
        "    x='bill_len',\n",
        "    y='bill_dep',\n",
        "    hue='species',\n",
        "    alpha=0.7\n",
        ")\n",
        "plt.title('The Relationship Between Bill Length & Bill Depth')\n",
        "plt.xlabel('Bill Length (mm)')\n",
        "plt.ylabel('Bill Depth (mm)')\n",
        "plt.show()"
      ],
      "id": "cell-fig-bill-scatter-plot"
    },
    {
      "cell_type": "markdown",
      "metadata": {},
      "source": [
        "**Questions:**\n",
        "\n",
        "-   What pattern do you see in\n",
        "    <a href=\"#fig-bill-scatter-plot\" class=\"quarto-xref\">Figure 2</a>?\n",
        "-   How does bill depth change when bill length increases, according to\n",
        "    this plot?\n",
        "-   Are there differences by species?\n",
        "\n",
        "## Computing Correlations\n",
        "\n",
        "### Pairwise Correlation\n",
        "\n",
        "We can compute the correlation between two variables, using\n",
        "`scipy.stats`."
      ],
      "id": "cdd218e9-9dde-492d-bb79-f6bd438e05b9"
    },
    {
      "cell_type": "code",
      "execution_count": 5,
      "metadata": {},
      "outputs": [
        {
          "output_type": "stream",
          "name": "stdout",
          "text": [
            "Correlation (r) = 0.87"
          ]
        }
      ],
      "source": [
        "from scipy.stats import pearsonr\n",
        "\n",
        "r, p = pearsonr(df['flipper_len'], df['body_mass'])\n",
        "print(f\"Correlation (r) = {r:.2f}\")"
      ],
      "id": "flipper-mass-correlation"
    },
    {
      "cell_type": "markdown",
      "metadata": {},
      "source": [
        "A correlation of 0.87 is very strong. There is clearly a very strong\n",
        "association between flipper length and body mass. However, we can’t\n",
        "claim that flipper length causes body mass just based off this.\n",
        "Correlation does not imply causation[1].\n",
        "\n",
        "When we visualised the relationship between bill length and bill depth,\n",
        "there appeared to be a grouping structure going on that complicated\n",
        "things, and the overall relationship appeared pretty noisy.\n",
        "\n",
        "[1] Correlation might not imply causation, but it is important to\n",
        "realise that the presence of correlation does not mean causation is\n",
        "*not* present. You just can’t conclude causation exists simply because\n",
        "you observe a correlation."
      ],
      "id": "49e7dce7-6783-407d-bba3-3537e28f6070"
    },
    {
      "cell_type": "code",
      "execution_count": 6,
      "metadata": {},
      "outputs": [
        {
          "output_type": "stream",
          "name": "stdout",
          "text": [
            "Correlation (r) = -0.23"
          ]
        }
      ],
      "source": [
        "r, p = pearsonr(df['bill_len'], df['bill_dep'])\n",
        "print(f\"Correlation (r) = {r:.2f}\")"
      ],
      "id": "bill-correlation"
    },
    {
      "cell_type": "markdown",
      "metadata": {},
      "source": [
        "As a result, the correlation score is much lower. A correlation of -0.23\n",
        "tells us two things:\n",
        "\n",
        "-   The negative correlation means that when bill length increases, bill\n",
        "    depth tends to decrease.\n",
        "-   The weaker correlation suggests that this decrease is a lot noisier,\n",
        "    and it is much harder to estimate a penguin’s bill depth using their\n",
        "    bill length.\n",
        "\n",
        "A correlation of +/- ~0.2 doesn’t necessarily mean there is no\n",
        "relationship. There are lots of ways correlation can mislead, because it\n",
        "is a limited measure. Visualising the relationship between bill length\n",
        "and bill depth showed us that species is highly relevant, and not\n",
        "factoring this in limits what we can say about this relationship.\n",
        "\n",
        "### Correlation Matrix\n",
        "\n",
        "We may be interested in the pairwise correlation between multiple\n",
        "variables. If so, computing each correlation between pairs of variables\n",
        "is very cumbersome. Instead, we can compute a correlation matrix."
      ],
      "id": "e14d3f95-783b-4a8e-8328-6041856c4108"
    },
    {
      "cell_type": "code",
      "execution_count": 7,
      "metadata": {},
      "outputs": [
        {
          "output_type": "display_data",
          "metadata": {},
          "data": {
            "text/html": [
              "\n",
              "</div>"
            ]
          }
        }
      ],
      "source": [
        "# compute correlation matrix\n",
        "(\n",
        "    df.select_dtypes(include='number')\n",
        "    .corr()\n",
        "    .round(2)\n",
        ")"
      ],
      "id": "cell-correlation-matrix"
    },
    {
      "cell_type": "markdown",
      "metadata": {},
      "source": [
        "We can also visualise a correlation matrix, shown below in\n",
        "<a href=\"#fig-correlation-matrix-plot\" class=\"quarto-xref\">Figure 3</a>."
      ],
      "id": "66871f37-674c-4354-a79b-a9bede45d083"
    },
    {
      "cell_type": "code",
      "execution_count": 8,
      "metadata": {},
      "outputs": [
        {
          "output_type": "display_data",
          "metadata": {},
          "data": {}
        }
      ],
      "source": [
        "# add correlation matrix to summarise relationships\n",
        "corr_matrix = df.select_dtypes(include='number').corr()\n",
        "# plot heatmap\n",
        "plt.figure(figsize=(8, 6))\n",
        "sns.heatmap(corr_matrix, annot=True, cmap='coolwarm', vmin=-1, vmax=1)\n",
        "plt.title(\"Correlation Matrix\")\n",
        "plt.show()"
      ],
      "id": "cell-fig-correlation-matrix-plot"
    },
    {
      "cell_type": "markdown",
      "metadata": {},
      "source": [
        "If you are concerned with a certain outcome and you want to quickly look\n",
        "at the correlation between all other continuous variables and the\n",
        "outcome, you can also compute this."
      ],
      "id": "116874d7-3ef8-467b-a916-1f3731b32e35"
    },
    {
      "cell_type": "code",
      "execution_count": 9,
      "metadata": {},
      "outputs": [
        {
          "output_type": "display_data",
          "metadata": {},
          "data": {
            "text/plain": [
              "bill_len       0.59\n",
              "bill_dep      -0.47\n",
              "flipper_len    0.87\n",
              "year           0.02\n",
              "Name: body_mass, dtype: float64"
            ]
          }
        }
      ],
      "source": [
        "# correlations of all numeric variables with body mass\n",
        "(\n",
        "    df.select_dtypes(include='number')\n",
        "    .corr()['body_mass']\n",
        "    .drop('body_mass')\n",
        "    .round(2)\n",
        ")"
      ],
      "id": "cell-body-mass-correlations"
    },
    {
      "cell_type": "markdown",
      "metadata": {},
      "source": [
        "## Correlation’s Limitations\n",
        "\n",
        "Computing correlation can be very informative, but there are a lot of\n",
        "ways it is limited. Correlation (at least the most common method for\n",
        "calculating correlation, Pearson’s *r*[1]) does not handle non-linearity\n",
        "well.\n",
        "\n",
        "[1] There are a number of other ways of calculating correlation,\n",
        "including methods that account for non-linearity, but more often than\n",
        "not you will encounter Pearson’s *r*. Any time correlation is mentioned\n",
        "without specifying the way it was calculated, you should assume it is\n",
        "using Pearson’s *r*."
      ],
      "id": "f948d992-d755-4c66-b4ce-cb7a0dd17b5d"
    },
    {
      "cell_type": "code",
      "execution_count": 10,
      "metadata": {},
      "outputs": [
        {
          "output_type": "display_data",
          "metadata": {},
          "data": {}
        }
      ],
      "source": [
        "import numpy as np\n",
        "\n",
        "# simulate a u‑shaped relationship example\n",
        "x_sim = np.linspace(-3, 3, 200)\n",
        "y_sim = x_sim**2 + np.random.normal(0, 1, 200)\n",
        "sim = pd.DataFrame({'x': x_sim, 'y': y_sim})\n",
        "\n",
        "plt.figure(figsize=(6, 4))\n",
        "sns.scatterplot(data=sim, x='x', y='y')\n",
        "plt.title('u-shaped pattern')\n",
        "plt.show()"
      ],
      "id": "cell-fig-non-linear-relationships"
    },
    {
      "cell_type": "code",
      "execution_count": 11,
      "metadata": {},
      "outputs": [
        {
          "output_type": "stream",
          "name": "stdout",
          "text": [
            "Correlation (r) = -0.00"
          ]
        }
      ],
      "source": [
        "r, p = pearsonr(sim['x'], sim['y'])\n",
        "print(f\"Correlation (r) = {r:.2f}\")"
      ],
      "id": "non-linear-correlation"
    },
    {
      "cell_type": "markdown",
      "metadata": {},
      "source": [
        "**Takeaway:** Pearson’s *r* misses non-linear relationships\n",
        "\n",
        "## Visualising Linear Regressions"
      ],
      "id": "54bbdd27-ab07-432e-9265-bd080840f175"
    },
    {
      "cell_type": "code",
      "execution_count": 12,
      "metadata": {},
      "outputs": [
        {
          "output_type": "display_data",
          "metadata": {},
          "data": {}
        }
      ],
      "source": [
        "# add linear fit line\n",
        "sns.regplot(\n",
        "    data=df,\n",
        "    x='flipper_len',\n",
        "    y='body_mass',\n",
        "    scatter=True,\n",
        "    ci=95\n",
        ")\n",
        "plt.title('Adding a Regression Line')\n",
        "plt.xlabel('Flipper Length (mm)')\n",
        "plt.ylabel('Body Mass (g)')\n",
        "plt.show()"
      ],
      "id": "cell-fig-flipper-mass-regression-plot"
    },
    {
      "cell_type": "code",
      "execution_count": 13,
      "metadata": {},
      "outputs": [
        {
          "output_type": "display_data",
          "metadata": {},
          "data": {}
        }
      ],
      "source": [
        "# add linear fit line\n",
        "sns.regplot(\n",
        "    data=df,\n",
        "    x='bill_len',\n",
        "    y='bill_dep',\n",
        "    scatter=True,\n",
        "    ci=95\n",
        ")\n",
        "plt.title('Adding a Regression Line')\n",
        "plt.xlabel('Bill Length (mm)')\n",
        "plt.ylabel('Bill Depth (mm)')\n",
        "plt.show()"
      ],
      "id": "cell-fig-bill-regression-plot"
    },
    {
      "cell_type": "markdown",
      "metadata": {},
      "source": [
        "## Visualisation Limitations\n",
        "\n",
        "Visualising relationships has many of the same issues that computing\n",
        "correlation does, but fundamentally the biggest issue is that it is\n",
        "pairwise, and few relationships are strictly pairwise in the real world.\n",
        "\n",
        "<a href=\"#fig-bill-regression-plot\" class=\"quarto-xref\">Figure 6</a>\n",
        "points to another limitation with Pearson’s *r* that also applies to\n",
        "regression plots. Grouping structures!"
      ],
      "id": "75bfbe6b-94e8-45e1-9667-0c21784a9949"
    },
    {
      "cell_type": "code",
      "execution_count": 14,
      "metadata": {},
      "outputs": [
        {
          "output_type": "display_data",
          "metadata": {},
          "data": {}
        }
      ],
      "source": [
        "sns.lmplot(data=df, x=\"bill_len\", y=\"bill_dep\", hue=\"species\")\n",
        "\n",
        "plt.title('Accounting for groups')\n",
        "plt.xlabel('Bill Length (mm)')\n",
        "plt.ylabel('Bill Depth (mm)')\n",
        "plt.show()"
      ],
      "id": "cell-fig-grouping-structures"
    },
    {
      "cell_type": "markdown",
      "metadata": {},
      "source": [
        "<a href=\"#fig-grouping-structures\" class=\"quarto-xref\">Figure 7</a>\n",
        "shows how pairwise examination of relationships can miss so much.\n",
        "\n",
        "Drawing a straight line through data is strictly linear, but unlike\n",
        "correlation coefficients, you will be able to *see* when this is\n",
        "inappropriate. A linear regression plot will not handle the non-linear\n",
        "pattern above any better than a correlation coefficient, but you will be\n",
        "able to see the problem for yourself.\n",
        "\n",
        "Visualising data helps you to get a sense of how two variables are\n",
        "related, but where you are seeking to understand the relationship\n",
        "between variables, or even explain what causes a certain outcome, you\n",
        "have to go further.\n",
        "\n",
        "## Summary\n",
        "\n",
        "-   Visualising data can help intuit how variables are related.\n",
        "-   Correlations can tell us a lot, but typical methods for calculating\n",
        "    correlation will miss non-linearity.\n",
        "-   Correlation does not imply causation (but does not *not* imply\n",
        "    causation, either).\n",
        "-   Both of these approaches are generally only able to handle pairwise\n",
        "    relationships."
      ],
      "id": "78e5a45d-e540-43d8-9b38-a10b97621223"
    }
  ],
  "nbformat": 4,
  "nbformat_minor": 5,
  "metadata": {
    "kernelspec": {
      "name": "python3",
      "display_name": "Python 3 (ipykernel)",
      "language": "python",
      "path": "c:.johnson-club.venv"
    },
    "language_info": {
      "name": "python",
      "codemirror_mode": {
        "name": "ipython",
        "version": "3"
      },
      "file_extension": ".py",
      "mimetype": "text/x-python",
      "nbconvert_exporter": "python",
      "pygments_lexer": "ipython3",
      "version": "3.12.5"
    }
  }
}