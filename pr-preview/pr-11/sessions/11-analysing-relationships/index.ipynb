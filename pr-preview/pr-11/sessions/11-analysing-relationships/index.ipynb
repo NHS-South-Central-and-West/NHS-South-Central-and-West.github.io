{
  "cells": [
    {
      "cell_type": "markdown",
      "metadata": {},
      "source": [
        "# Analysing ~~Penguins~~ Relationships\n",
        "\n",
        "This notebook explores relationships in data and the process for\n",
        "analysing relationships, using the **TidyTuesday Palmer Penguins**\n",
        "dataset. We’ll cover:\n",
        "\n",
        "-   Variable types & framing\n",
        "-   Visual exploration of relationships\n",
        "-   Calculating correlation\n",
        "-   Limitations with correlation and visual exploration\n",
        "\n",
        "## Why Analyse Relationships?\n",
        "\n",
        "We’ve learned to ask “Does A differ from B?”, but now we can ask, “How\n",
        "do two measures move together?”\n",
        "\n",
        "In this session, we’ll explore the penguins dataset to see how body mass\n",
        "relates to flipper length, how bill length relates to bill depth, and\n",
        "how to identify relationships between continuous traits.\n",
        "\n",
        "## Variables & Framing\n",
        "\n",
        "In our previous session, comparing samples, we were comparing the\n",
        "average value of a continuous variable by groups (categorical\n",
        "variables).\n",
        "\n",
        "Here we will compare two continuous variables, considering how one\n",
        "variable (the outcome) changes in response to changes in the other\n",
        "variable (the predictor).\n",
        "\n",
        "There is only a subtle difference between the idea of comparing samples\n",
        "and analysing relationships. You can frame a comparison between groups\n",
        "as analysing the relationship between the groups and the continuous\n",
        "variable, but you are still comparing the average value and dispersion\n",
        "for each group and inferring the relationship (or association) from\n",
        "this. When comparing two continuous variables, you can’t reduce either\n",
        "to their average, and are instead making statements about the way they\n",
        "vary together.\n",
        "\n",
        "**Question:** What relationships have you explored in your own work?\n",
        "\n",
        "## Load & Preview Penguins Data"
      ],
      "id": "d6eae03e-ec6f-4dee-a89b-d39e1f63d05d"
    },
    {
      "cell_type": "code",
      "execution_count": 1,
      "metadata": {},
      "outputs": [
        {
          "output_type": "display_data",
          "metadata": {},
          "data": {
            "text/html": [
              "\n",
              "</div>"
            ]
          }
        }
      ],
      "source": [
        "import pandas as pd\n",
        "\n",
        "# load penguins data from TidyTuesday URL\n",
        "url = 'https://raw.githubusercontent.com/rfordatascience/tidytuesday/main/data/2025/2025-04-15/penguins.csv'\n",
        "penguins_raw = pd.read_csv(url)\n",
        "penguins_raw.head()"
      ],
      "id": "cell-import-data"
    },
    {
      "cell_type": "markdown",
      "metadata": {},
      "source": [
        "**Focus:** Drop rows with missing values in key numeric columns."
      ],
      "id": "b4aef40d-b479-4aa0-873f-d86a830efaac"
    },
    {
      "cell_type": "code",
      "execution_count": 2,
      "metadata": {},
      "outputs": [
        {
          "output_type": "display_data",
          "metadata": {},
          "data": {
            "text/plain": [
              "(333, 8)"
            ]
          }
        }
      ],
      "source": [
        "# focus on key continuous variables and drop missing values\n",
        "df = penguins_raw.dropna()\n",
        "df.shape"
      ],
      "id": "cell-clean-data"
    },
    {
      "cell_type": "markdown",
      "metadata": {},
      "source": [
        "## Visualing Relationships"
      ],
      "id": "d98b70b8-ec87-4f41-b452-936248aa662e"
    },
    {
      "cell_type": "code",
      "execution_count": 3,
      "metadata": {},
      "outputs": [
        {
          "output_type": "display_data",
          "metadata": {},
          "data": {}
        }
      ],
      "source": [
        "import matplotlib.pyplot as plt\n",
        "import seaborn as sns\n",
        "\n",
        "# scatter of flipper length vs. body mass\n",
        "plt.figure(figsize=(8, 6))\n",
        "sns.scatterplot(\n",
        "    data=df,\n",
        "    x='flipper_len',\n",
        "    y='body_mass',\n",
        "    hue='species',\n",
        "    alpha=0.7\n",
        ")\n",
        "plt.title('The Relationship Between Flipper Length & Body Mass')\n",
        "plt.xlabel('Flipper Length (mm)')\n",
        "plt.ylabel('Body Mass (g)')\n",
        "plt.show()"
      ],
      "id": "cell-fig-flipper-mass-scatter-plot"
    },
    {
      "cell_type": "markdown",
      "metadata": {},
      "source": [
        "**Questions:**\n",
        "\n",
        "-   What pattern do you see in <a href=\"#fig-flipper-mass-scatter-plot\"\n",
        "    class=\"quarto-xref\">Figure 1</a>?\n",
        "-   How does body mass change when flipper length increases, according\n",
        "    to this plot?\n",
        "-   Are there differences by species?"
      ],
      "id": "5cd39d6b-e456-4b41-9486-846c730401a6"
    },
    {
      "cell_type": "code",
      "execution_count": 4,
      "metadata": {},
      "outputs": [
        {
          "output_type": "display_data",
          "metadata": {},
          "data": {}
        }
      ],
      "source": [
        "# scatter of bill length vs. bill depth\n",
        "plt.figure(figsize=(8, 6))\n",
        "sns.scatterplot(\n",
        "    data=df,\n",
        "    x='bill_len',\n",
        "    y='bill_dep',\n",
        "    hue='species',\n",
        "    alpha=0.7\n",
        ")\n",
        "plt.title('The Relationship Between Bill Length & Bill Depth')\n",
        "plt.xlabel('Bill Length (mm)')\n",
        "plt.ylabel('Bill Depth (mm)')\n",
        "plt.show()"
      ],
      "id": "cell-fig-bill-scatter-plot"
    },
    {
      "cell_type": "markdown",
      "metadata": {},
      "source": [
        "**Questions:**\n",
        "\n",
        "-   What pattern do you see in\n",
        "    <a href=\"#fig-bill-scatter-plot\" class=\"quarto-xref\">Figure 2</a>?\n",
        "-   How does bill depth change when bill length increases, according to\n",
        "    this plot?\n",
        "-   Are there differences by species?\n",
        "\n",
        "## Computing Correlations\n",
        "\n",
        "### Pairwise Correlation\n",
        "\n",
        "We can compute the correlation between two variables, using\n",
        "`scipy.stats`."
      ],
      "id": "2acc9e3e-6f2a-4a5d-b2fa-1ce8e60a174a"
    },
    {
      "cell_type": "code",
      "execution_count": 5,
      "metadata": {},
      "outputs": [
        {
          "output_type": "stream",
          "name": "stdout",
          "text": [
            "Correlation (r) = 0.87"
          ]
        }
      ],
      "source": [
        "from scipy.stats import pearsonr\n",
        "\n",
        "r, p = pearsonr(df['flipper_len'], df['body_mass'])\n",
        "print(f\"Correlation (r) = {r:.2f}\")"
      ],
      "id": "flipper-mass-correlation"
    },
    {
      "cell_type": "markdown",
      "metadata": {},
      "source": [
        "A correlation of 0.87 is very strong. There is clearly a very strong\n",
        "association between flipper length and body mass. However, we can’t\n",
        "claim that flipper length causes body mass just based off this.\n",
        "Correlation does not imply causation[1].\n",
        "\n",
        "When we visualised the relationship between bill length and bill depth,\n",
        "there appeared to be a grouping structure going on that complicated\n",
        "things, and the overall relationship appeared pretty noisy.\n",
        "\n",
        "[1] Correlation might not imply causation, but it is important to\n",
        "realise that the presence of correlation does not mean causation is\n",
        "*not* present. You just can’t conclude causation exists simply because\n",
        "you observe a correlation."
      ],
      "id": "c2e5144b-4138-46dc-963c-3372bcd8c51c"
    },
    {
      "cell_type": "code",
      "execution_count": 6,
      "metadata": {},
      "outputs": [
        {
          "output_type": "stream",
          "name": "stdout",
          "text": [
            "Correlation (r) = -0.23"
          ]
        }
      ],
      "source": [
        "r, p = pearsonr(df['bill_len'], df['bill_dep'])\n",
        "print(f\"Correlation (r) = {r:.2f}\")"
      ],
      "id": "bill-correlation"
    },
    {
      "cell_type": "markdown",
      "metadata": {},
      "source": [
        "As a result, the correlation score is much lower. A correlation of -0.23\n",
        "tells us two things:\n",
        "\n",
        "-   The negative correlation means that when bill length increases, bill\n",
        "    depth tends to decrease.\n",
        "-   The weaker correlation suggests that this decrease is a lot noisier,\n",
        "    and it is much harder to estimate a penguin’s bill depth using their\n",
        "    bill length.\n",
        "\n",
        "A correlation of +/- ~0.2 doesn’t necessarily mean there is no\n",
        "relationship. There are lots of ways correlation can mislead, because it\n",
        "is a limited measure. Visualising the relationship between bill length\n",
        "and bill depth showed us that species is highly relevant, and not\n",
        "factoring this in limits what we can say about this relationship.\n",
        "\n",
        "### Correlation Matrix\n",
        "\n",
        "We may be interested in the pairwise correlation between multiple\n",
        "variables. If so, computing each correlation between pairs of variables\n",
        "is very cumbersome. Instead, we can compute a correlation matrix."
      ],
      "id": "f971bc64-b400-4f0c-baa7-154c1b2bbbd8"
    },
    {
      "cell_type": "code",
      "execution_count": 7,
      "metadata": {},
      "outputs": [
        {
          "output_type": "display_data",
          "metadata": {},
          "data": {
            "text/html": [
              "\n",
              "</div>"
            ]
          }
        }
      ],
      "source": [
        "# compute correlation matrix\n",
        "(\n",
        "    df.select_dtypes(include='number')\n",
        "    .corr()\n",
        "    .round(2)\n",
        ")"
      ],
      "id": "cell-correlation-matrix"
    },
    {
      "cell_type": "markdown",
      "metadata": {},
      "source": [
        "We can also visualise a correlation matrix, shown below in\n",
        "<a href=\"#fig-correlation-matrix-plot\" class=\"quarto-xref\">Figure 3</a>."
      ],
      "id": "10381383-4445-43b4-a5d0-b6378ee35909"
    },
    {
      "cell_type": "code",
      "execution_count": 8,
      "metadata": {},
      "outputs": [
        {
          "output_type": "display_data",
          "metadata": {},
          "data": {}
        }
      ],
      "source": [
        "# add correlation matrix to summarise relationships\n",
        "corr_matrix = df.select_dtypes(include='number').corr()\n",
        "# plot heatmap\n",
        "plt.figure(figsize=(8, 6))\n",
        "sns.heatmap(corr_matrix, annot=True, cmap='coolwarm', vmin=-1, vmax=1)\n",
        "plt.title(\"Correlation Matrix\")\n",
        "plt.show()"
      ],
      "id": "cell-fig-correlation-matrix-plot"
    },
    {
      "cell_type": "markdown",
      "metadata": {},
      "source": [
        "If you are concerned with a certain outcome and you want to quickly look\n",
        "at the correlation between all other continuous variables and the\n",
        "outcome, you can also compute this."
      ],
      "id": "ae8c07f5-5196-423c-99d4-c991319e5361"
    },
    {
      "cell_type": "code",
      "execution_count": 9,
      "metadata": {},
      "outputs": [
        {
          "output_type": "display_data",
          "metadata": {},
          "data": {
            "text/plain": [
              "bill_len       0.59\n",
              "bill_dep      -0.47\n",
              "flipper_len    0.87\n",
              "year           0.02\n",
              "Name: body_mass, dtype: float64"
            ]
          }
        }
      ],
      "source": [
        "# correlations of all numeric variables with body mass\n",
        "(\n",
        "    df.select_dtypes(include='number')\n",
        "    .corr()['body_mass']\n",
        "    .drop('body_mass')\n",
        "    .round(2)\n",
        ")"
      ],
      "id": "cell-body-mass-correlations"
    },
    {
      "cell_type": "markdown",
      "metadata": {},
      "source": [
        "## Correlation’s Limitations\n",
        "\n",
        "Computing correlation can be very informative, but there are a lot of\n",
        "ways it is limited. Correlation (at least the most common method for\n",
        "calculating correlation, Pearson’s *r*[1]) does not handle non-linearity\n",
        "well.\n",
        "\n",
        "[1] There are a number of other ways of calculating correlation, but"
      ],
      "id": "c47ca61a-82ba-4b5a-bdcb-780713714935"
    },
    {
      "cell_type": "code",
      "execution_count": 10,
      "metadata": {},
      "outputs": [
        {
          "output_type": "display_data",
          "metadata": {},
          "data": {}
        }
      ],
      "source": [
        "import numpy as np\n",
        "\n",
        "# simulate a u‑shaped relationship example\n",
        "x_sim = np.linspace(-3, 3, 200)\n",
        "y_sim = x_sim**2 + np.random.normal(0, 1, 200)\n",
        "sim = pd.DataFrame({'x': x_sim, 'y': y_sim})\n",
        "\n",
        "plt.figure(figsize=(6, 4))\n",
        "sns.scatterplot(data=sim, x='x', y='y')\n",
        "plt.title('u-shaped pattern')\n",
        "plt.show()"
      ],
      "id": "cell-fig-non-linear-relationships"
    },
    {
      "cell_type": "code",
      "execution_count": 11,
      "metadata": {},
      "outputs": [
        {
          "output_type": "stream",
          "name": "stdout",
          "text": [
            "Correlation (r) = -0.01"
          ]
        }
      ],
      "source": [
        "r, p = pearsonr(sim['x'], sim['y'])\n",
        "print(f\"Correlation (r) = {r:.2f}\")"
      ],
      "id": "non-linear-correlation"
    },
    {
      "cell_type": "markdown",
      "metadata": {},
      "source": [
        "**Takeaway:** Pearson’s *r* misses non-linear relationships\n",
        "\n",
        "## Visualising Linear Regressions"
      ],
      "id": "9698a2c3-e393-4360-8c22-c86096d5a59f"
    },
    {
      "cell_type": "code",
      "execution_count": 12,
      "metadata": {},
      "outputs": [
        {
          "output_type": "display_data",
          "metadata": {},
          "data": {}
        }
      ],
      "source": [
        "# add linear fit line\n",
        "sns.regplot(\n",
        "    data=df,\n",
        "    x='flipper_len',\n",
        "    y='body_mass',\n",
        "    scatter=True,\n",
        "    ci=95\n",
        ")\n",
        "plt.title('Adding a Regression Line')\n",
        "plt.xlabel('Flipper Length (mm)')\n",
        "plt.ylabel('Body Mass (g)')\n",
        "plt.show()"
      ],
      "id": "cell-fig-flipper-mass-regression-plot"
    },
    {
      "cell_type": "code",
      "execution_count": 13,
      "metadata": {},
      "outputs": [
        {
          "output_type": "display_data",
          "metadata": {},
          "data": {}
        }
      ],
      "source": [
        "# add linear fit line\n",
        "sns.regplot(\n",
        "    data=df,\n",
        "    x='bill_len',\n",
        "    y='bill_dep',\n",
        "    scatter=True,\n",
        "    ci=95\n",
        ")\n",
        "plt.title('Adding a Regression Line')\n",
        "plt.xlabel('Bill Length (mm)')\n",
        "plt.ylabel('Bill Depth (mm)')\n",
        "plt.show()"
      ],
      "id": "cell-fig-bill-regression-plot"
    },
    {
      "cell_type": "markdown",
      "metadata": {},
      "source": [
        "## Visualisation Limitations\n",
        "\n",
        "Visualising relationships has many of the same issues that computing\n",
        "correlation does, but fundamentally the biggest issue is that it is\n",
        "pairwise, and few relationships are strictly pairwise in the real world.\n",
        "\n",
        "<a href=\"#fig-bill-regression-plot\" class=\"quarto-xref\">Figure 6</a>\n",
        "points to another limitation with Pearson’s *r* that also applies to\n",
        "regression plots. Grouping structures!"
      ],
      "id": "4530d324-c3db-45e3-a720-e8756e11f8d5"
    },
    {
      "cell_type": "code",
      "execution_count": 14,
      "metadata": {},
      "outputs": [
        {
          "output_type": "display_data",
          "metadata": {},
          "data": {}
        }
      ],
      "source": [
        "sns.lmplot(data=df, x=\"bill_len\", y=\"bill_dep\", hue=\"species\")\n",
        "\n",
        "plt.title('Accounting for groups')\n",
        "plt.xlabel('Bill Length (mm)')\n",
        "plt.ylabel('Bill Depth (mm)')\n",
        "plt.show()"
      ],
      "id": "cell-fig-grouping-structures"
    },
    {
      "cell_type": "markdown",
      "metadata": {},
      "source": [
        "<a href=\"#fig-grouping-structures\" class=\"quarto-xref\">Figure 7</a>\n",
        "shows how pairwise examination of relationships can miss so much.\n",
        "\n",
        "Drawing a straight line through data is strictly linear, but unlike\n",
        "correlation coefficients, you will be able to *see* when this is\n",
        "inappropriate. A linear regression plot will not handle the non-linear\n",
        "pattern above any better than a correlation coefficient, but you will be\n",
        "able to see the problem for yourself.\n",
        "\n",
        "Visualising data helps you to get a sense of how two variables are\n",
        "related, but where you are seeking to understand the relationship\n",
        "between variables, or even explain what causes a certain outcome, you\n",
        "have to go further.\n",
        "\n",
        "## 8. Wrap‑Up & Bridge to Regression\n",
        "\n",
        "-   Correlation quantifies strength of linear link.\n",
        "-   Only linear, pairwise, no adjustment for other variables.\n",
        "-   Correlation does not imply causation (but does not *not* imply\n",
        "    causation, either)."
      ],
      "id": "3f8bd00b-7829-4438-bfb5-f158b762e695"
    }
  ],
  "nbformat": 4,
  "nbformat_minor": 5,
  "metadata": {
    "kernelspec": {
      "name": "python3",
      "display_name": "Python 3 (ipykernel)",
      "language": "python",
      "path": "c:.johnson-club.venv"
    }
  }
}